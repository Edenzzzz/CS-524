{
 "cells": [
  {
   "attachments": {},
   "cell_type": "markdown",
   "metadata": {},
   "source": [
    "# McDonalds Diet Problem\n",
    "\n",
    "In this notebook, we will determine the minimum cost McDonalds diet"
   ]
  },
  {
   "cell_type": "code",
   "execution_count": 1,
   "metadata": {},
   "outputs": [],
   "source": [
    "foods = [:QP, :MD, :BM, :FF, :MC, :FR, :SM, :M1, :OJ]\n",
    "# Word to the wise---Julia symbols cannot start with a number (M1 instead of 1M. It took me a while to figure this out)\n",
    "\n",
    "nutrients = [:Prot, :VitA, :VitC, :Calc, :Iron, :Cals, :Carb]\n",
    "\n",
    "cost = Dict(zip(foods,[1.84,2.19,1.84,1.44,2.29,0.77,1.29,0.6,0.72]))\n",
    "required = Dict(zip(nutrients,[55,100,100,100,100,2000,350]))\n",
    "using NamedArrays\n",
    "A = [\n",
    "    28 24 25 14 31 3 15 9 1\n",
    "    15 15 6 2 8 0 4 10 2\n",
    "    6 10 2 0 15 15 0 4 120\n",
    "    30 20 25 15 15 0 20 30 2\n",
    "    20 20 20 10 8 2 15 0 2\n",
    "    510 370 500 370 400 220 345 110 80\n",
    "    34 33 42 38 42 26 27 12 20\n",
    "]\n",
    "A_NA = NamedArray(A, (nutrients,foods), (\"Nutrients\",\"Menu Items\")) ;"
   ]
  },
  {
   "cell_type": "code",
   "execution_count": 2,
   "metadata": {},
   "outputs": [],
   "source": [
    "burgers = [:QP, :MD, :BM] ;"
   ]
  },
  {
   "cell_type": "markdown",
   "metadata": {},
   "source": [
    "Suppose instead of minimizing cost, I wish to maximize the number of hamburgers I eat.  (I like hamburgers A LOT!)"
   ]
  },
  {
   "cell_type": "code",
   "execution_count": 3,
   "metadata": {},
   "outputs": [
    {
     "name": "stdout",
     "output_type": "stream",
     "text": [
      "Running HiGHS 1.9.0 (git hash: 66f735e60): Copyright (c) 2024 HiGHS under MIT licence terms\n",
      "Coefficient ranges:\n",
      "  Matrix [1e+00, 5e+02]\n",
      "  Cost   [1e+00, 1e+00]\n",
      "  Bound  [0e+00, 0e+00]\n",
      "  RHS    [6e+01, 2e+03]\n",
      "Presolving model\n",
      "Problem status detected on presolve: Primal infeasible or unbounded\n",
      "Solving the original LP with primal simplex to determine infeasible or unbounded\n",
      "Using EKK primal simplex solver\n",
      "  Iteration        Objective     Infeasibilities num(sum)\n",
      "          0    -4.1207498688e-08 Ph1: 7(1920); Du: 9(100.207) 0s\n",
      "          3     5.0000000000e+01 Pr: 0(0); Du: 1(0.5) 0s\n",
      "Using EKK primal simplex solver\n",
      "  Iteration        Objective     Infeasibilities num(sum)\n",
      "          3     5.0000006313e+01 Pr: 0(0); Du: 1(0.5) 0s\n",
      "          3     5.0000000000e+01 Pr: 0(0); Du: 1(0.5) 0s\n",
      "Model status        : Unbounded\n",
      "Simplex   iterations: 3\n",
      "Objective value     :  5.0000000000e+01\n",
      "Relative P-D gap    :  0.0000000000e+00\n",
      "HiGHS run time      :          0.01\n",
      "Solving linear system to compute primal ray\n",
      "\n",
      "Minimum cost menu is $0.50\n",
      "Eat 0.50 of menu item BM\n"
     ]
    }
   ],
   "source": [
    "using JuMP, HiGHS, Printf\n",
    "m = Model(HiGHS.Optimizer)\n",
    "@variable(m, x[foods] >= 0)\n",
    "@objective(m, Max, sum(x[j] for j in burgers))\n",
    "@constraint(m, [i in nutrients], sum(A_NA[i,j]*x[j] for j in foods) >= required[i])\n",
    "\n",
    "# If you don't want the solver output, you can make it slient like this\n",
    "#set_silent(m)\n",
    "optimize!(m)\n",
    "\n",
    "sol = Dict(j => value(x[j]) for j in foods if value(x[j]) > 1.0e-6)\n",
    "\n",
    "@printf(\"\\nMinimum cost menu is \\$%.2f\\n\", objective_value(m))\n",
    "for (key, value) in sol\n",
    "    @printf(\"Eat %.2f of menu item %s\\n\", value, key)\n",
    "end\n"
   ]
  },
  {
   "cell_type": "markdown",
   "metadata": {},
   "source": [
    "See that the Model status is Unbounded!\n",
    "In this case the \"solution\" returned is garbage.\n",
    "We need to make sure the Model Status is 'Optimal' in order to 'trust' the solution.\n",
    "See https://jump.dev/JuMP.jl/stable/manual/solutions/ for manual page"
   ]
  },
  {
   "cell_type": "code",
   "execution_count": 4,
   "metadata": {},
   "outputs": [
    {
     "name": "stdout",
     "output_type": "stream",
     "text": [
      "Solver did not find optimal solution, status: DUAL_INFEASIBLE\n"
     ]
    }
   ],
   "source": [
    "opt_status = termination_status(m)\n",
    "if opt_status != MOI.OPTIMAL\n",
    "    println(\"Solver did not find optimal solution, status: \", opt_status)\n",
    "end\n"
   ]
  },
  {
   "cell_type": "markdown",
   "metadata": {},
   "source": [
    "Here DUAL_INFEASIBLE status means that the LP instance was UNBOUNDED.\n",
    "(We will learn more about duality later in the class).\n",
    "\n",
    "In general you should always check the termination_status.\n"
   ]
  },
  {
   "cell_type": "code",
   "execution_count": 5,
   "metadata": {},
   "outputs": [
    {
     "data": {
      "text/plain": [
       "Dict{Symbol, Int64} with 9 entries:\n",
       "  :QP => 10\n",
       "  :MD => 10\n",
       "  :FR => 10\n",
       "  :SM => 10\n",
       "  :OJ => 10\n",
       "  :BM => 10\n",
       "  :M1 => 10\n",
       "  :MC => 10\n",
       "  :FF => 10"
      ]
     },
     "metadata": {},
     "output_type": "display_data"
    }
   ],
   "source": [
    "max_item = Dict(j => 10 for j in foods)\n",
    "\n"
   ]
  },
  {
   "cell_type": "code",
   "execution_count": 6,
   "metadata": {},
   "outputs": [
    {
     "name": "stdout",
     "output_type": "stream",
     "text": [
      "Running HiGHS 1.9.0 (git hash: 66f735e60): Copyright (c) 2024 HiGHS under MIT licence terms\n",
      "Coefficient ranges:\n",
      "  Matrix [1e+00, 5e+02]\n",
      "  Cost   [1e+00, 1e+00]\n",
      "  Bound  [1e+01, 1e+01]\n",
      "  RHS    [6e+01, 2e+03]\n",
      "Presolving model\n",
      "0 rows, 0 cols, 0 nonzeros  0s\n",
      "0 rows, 0 cols, 0 nonzeros  0s\n",
      "Presolve : Reductions: rows 0(-7); columns 0(-9); elements 0(-58) - Reduced to empty\n",
      "Solving the original LP from the solution after postsolve\n",
      "Model status        : Optimal\n",
      "Objective value     :  3.0000000000e+01\n",
      "Relative P-D gap    :  0.0000000000e+00\n",
      "HiGHS run time      :          0.00\n",
      "\n",
      "Minimum cost menu is $30.00\n",
      "Eat 10.00 of menu item QP\n",
      "Eat 10.00 of menu item MD\n",
      "Eat 10.00 of menu item FR\n",
      "Eat 10.00 of menu item SM\n",
      "Eat 10.00 of menu item BM\n",
      "Eat 10.00 of menu item M1\n",
      "Eat 10.00 of menu item MC\n",
      "Eat 10.00 of menu item FF\n"
     ]
    }
   ],
   "source": [
    "m = Model(HiGHS.Optimizer)\n",
    "@variable(m, 0 <= x[j in foods] <= max_item[j])\n",
    "@objective(m, Max, sum(x[j] for j in burgers))\n",
    "@constraint(m, [i in nutrients], sum(A_NA[i,j]*x[j] for j in foods) >= required[i])\n",
    "\n",
    "# If you don't want the solver output, you can make it slient like this\n",
    "#set_silent(m)\n",
    "optimize!(m)\n",
    "\n",
    "sol = Dict(j => value(x[j]) for j in foods if value(x[j]) > 1.0e-6)\n",
    "\n",
    "@printf(\"\\nMinimum cost menu is \\$%.2f\\n\", objective_value(m))\n",
    "for (key, value) in sol\n",
    "    @printf(\"Eat %.2f of menu item %s\\n\", value, key)\n",
    "end"
   ]
  },
  {
   "cell_type": "markdown",
   "metadata": {},
   "source": [
    "## Next idea In the interest of extended my life, my wife has requested that I obey the following constraints:\n",
    "\n",
    "1. Don't eat more than 3 sandwiches per day\n",
    "2. Don't drink too much  (Always very good advice).  At most 3 drinks per day.\n",
    "3. Don't eat more than 2 orders of french fries per day.\n"
   ]
  },
  {
   "cell_type": "code",
   "execution_count": 7,
   "metadata": {},
   "outputs": [
    {
     "name": "stdout",
     "output_type": "stream",
     "text": [
      "Running HiGHS 1.9.0 (git hash: 66f735e60): Copyright (c) 2024 HiGHS under MIT licence terms\n",
      "Coefficient ranges:\n",
      "  Matrix [1e+00, 5e+02]\n",
      "  Cost   [6e-01, 2e+00]\n",
      "  Bound  [0e+00, 0e+00]\n",
      "  RHS    [2e+00, 2e+03]\n",
      "Presolving model\n",
      "9 rows, 9 cols, 66 nonzeros  0s\n",
      "9 rows, 9 cols, 66 nonzeros  0s\n",
      "Presolve : Reductions: rows 9(-1); columns 9(-0); elements 66(-1)\n",
      "Solving the presolved LP\n",
      "Using EKK dual simplex solver - serial\n",
      "  Iteration        Objective     Infeasibilities num(sum)\n",
      "          0     0.0000000000e+00 Pr: 7(1420) 0s\n",
      "          5     2.4751267377e+01 0s\n",
      "Model status        : Infeasible\n",
      "Simplex   iterations: 5\n",
      "Objective value     :  2.4751250000e+01\n",
      "HiGHS run time      :          0.00\n",
      "Solving LP to try to compute dual ray\n",
      "Coefficient ranges:\n",
      "  Matrix [1e+00, 5e+02]\n",
      "  Cost   [0e+00, 0e+00]\n",
      "  Bound  [0e+00, 0e+00]\n",
      "  RHS    [2e+00, 2e+03]\n",
      "Solving LP without presolve, or with basis, or unconstrained\n",
      "Using EKK dual simplex solver - serial\n",
      "  Iteration        Objective     Infeasibilities num(sum)\n",
      "          0     0.0000000000e+00 Pr: 7(1420) 0s\n",
      "          5     1.1949375026e-04 0s\n",
      "Model status        : Infeasible\n",
      "Simplex   iterations: 5\n",
      "Objective value     :  0.0000000000e+00\n",
      "Relative P-D gap    :  1.1949375026e-04\n",
      "HiGHS run time      :          0.00\n",
      "Solving linear system to compute dual ray\n",
      "Solver did not find optimal solution, status: INFEASIBLE\n"
     ]
    }
   ],
   "source": [
    "sammiches = [:QP, :MD, :BM, :FF, :MC, :SM]\n",
    "\n",
    "# Let's just make a new model for this\n",
    "m2 = Model(HiGHS.Optimizer)\n",
    "@variable(m2, x[foods] >= 0)\n",
    "@objective(m2, Min, sum(cost[j]*x[j] for j in foods))\n",
    "@constraint(m2, [i in nutrients], sum(A_NA[i,j]*x[j] for j in foods) >= required[i])\n",
    "# We can 'name' the constraints if we wish\n",
    "@constraint(m2, MaxSammich, sum(x[j] for j in sammiches) <= 3)\n",
    "@constraint(m2, MaxDrinks, x[:M1] + x[:OJ] <= 3)\n",
    "@constraint(m2, MaxFF, x[:FF] <= 2)\n",
    "optimize!(m2)\n",
    "\n",
    "opt_status = termination_status(m2)\n",
    "if opt_status != MOI.OPTIMAL\n",
    "    println(\"Solver did not find optimal solution, status: \", opt_status)\n",
    "end"
   ]
  },
  {
   "cell_type": "markdown",
   "metadata": {},
   "source": [
    "* Suppose I think that the ``too much drinking'' constraint is the one causing the problem to be infeasible\n",
    "\n",
    "* Let's create a new problem to determine if I had more than 3 drinks, the instance could be feasible \n",
    "\n",
    "* $s$:  Number of extra drinks (over three)\n",
    "that I must drink in order to get a feasible solution\n",
    "$$x_{1M} + x_{OJ} - s \\leq 3, s \\geq 0$$\n",
    "* New Objective: $\\min s$"
   ]
  },
  {
   "cell_type": "code",
   "execution_count": 8,
   "metadata": {},
   "outputs": [
    {
     "name": "stdout",
     "output_type": "stream",
     "text": [
      "Coefficient ranges:\n",
      "  Matrix [1e+00, 5e+02]\n",
      "  Cost   [1e+00, 1e+00]\n",
      "  Bound  [0e+00, 0e+00]\n",
      "  RHS    [2e+00, 2e+03]\n",
      "Presolving model\n",
      "4 rows, 9 cols, 25 nonzeros  0s\n",
      "4 rows, 9 cols, 25 nonzeros  0s\n",
      "Presolve : Reductions: rows 4(-6); columns 9(-1); elements 25(-43)\n",
      "Solving the presolved LP\n",
      "Using EKK dual simplex solver - serial\n",
      "  Iteration        Objective     Infeasibilities num(sum)\n",
      "          0     0.0000000000e+00 Pr: 2(125) 0s\n",
      "          3     2.5000000000e+00 Pr: 0(0) 0s\n",
      "Solving the original LP from the solution after postsolve\n",
      "Model status        : Optimal\n",
      "Simplex   iterations: 3\n",
      "Objective value     :  2.5000000000e+00\n",
      "Relative P-D gap    :  0.0000000000e+00\n",
      "HiGHS run time      :          0.00\n",
      "I have to drink 2.50 (extra) drinks\n",
      "5.50 milk, 0.00 OJ"
     ]
    }
   ],
   "source": [
    "using Printf\n",
    "# We can delete constraints from a model \n",
    "delete(m2,MaxDrinks)\n",
    "# Add a new variable\n",
    "@variable(m2, s >= 0)\n",
    "@constraint(m2, NewMaxDrinks, x[:M1] + x[:OJ] - s <= 3)\n",
    "# This will over-write the old objective in model m2\n",
    "@objective(m2, Min, s)\n",
    "\n",
    "optimize!(m2)\n",
    "opt_status = termination_status(m2)\n",
    "if opt_status != MOI.OPTIMAL\n",
    "    println(\"Solver did not find optimal solution, status: \", opt_status)\n",
    "else\n",
    "    @printf(\"I have to drink %.2f (extra) drinks\\n\", objective_value(m2))\n",
    "    @printf(\"%.2f milk, %.2f OJ\", value(x[:M1]), value(x[:OJ]))\n",
    "end"
   ]
  }
 ],
 "metadata": {
  "kernelspec": {
   "display_name": "Julia 1.11.3",
   "language": "julia",
   "name": "julia-1.11"
  },
  "language_info": {
   "file_extension": ".jl",
   "mimetype": "application/julia",
   "name": "julia",
   "version": "1.11.3"
  }
 },
 "nbformat": 4,
 "nbformat_minor": 2
}
