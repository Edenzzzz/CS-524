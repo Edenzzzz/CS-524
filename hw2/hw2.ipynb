{
 "cells": [
  {
   "cell_type": "markdown",
   "metadata": {},
   "source": [
    "A cell for reading the data in spider-man.csv"
   ]
  },
  {
   "cell_type": "markdown",
   "metadata": {},
   "source": [
    "# 1-2"
   ]
  },
  {
   "cell_type": "code",
   "execution_count": 1,
   "metadata": {},
   "outputs": [],
   "source": [
    "using JuMP\n",
    "using HiGHS"
   ]
  },
  {
   "cell_type": "code",
   "execution_count": 66,
   "metadata": {},
   "outputs": [],
   "source": [
    "model = Model(HiGHS.Optimizer)\n",
    "@variable(model, p1 >= 0)\n",
    "@variable(model, p2 >= 0)\n",
    "@objective(model, Min, 4*p1 + p2)\n",
    "@constraint(model, 3*p1 + p2 >= 10)\n",
    "@constraint(model, p1 + p2 >= 5)\n",
    "@constraint(model, p1 >= 3)\n",
    "set_silent(model)\n",
    "optimize!(model)"
   ]
  },
  {
   "cell_type": "code",
   "execution_count": 3,
   "metadata": {},
   "outputs": [
    {
     "name": "stdout",
     "output_type": "stream",
     "text": [
      "Number of hours for process 1: 3.0\n",
      "Number of hours for process 2: 2.0\n"
     ]
    }
   ],
   "source": [
    "println(\"Number of hours for process 1: \", value(p1))\n",
    "println(\"Number of hours for process 2: \", value(p2))"
   ]
  },
  {
   "cell_type": "markdown",
   "metadata": {},
   "source": [
    "# 1-5"
   ]
  },
  {
   "cell_type": "code",
   "execution_count": null,
   "metadata": {},
   "outputs": [],
   "source": [
    "# import Pkg; Pkg.add(\"DataFrames\"); Pkg.add(\"CSV\"); Pkg.add(\"NamedArrays\")\n",
    "using DataFrames, CSV, NamedArrays\n",
    "df = CSV.read(\"spider-man.csv\", DataFrame, delim =',') \n",
    "\n",
    "# Processes are column names starting at the 3rd\n",
    "J = propertynames(df)[3:end]\n",
    "\n",
    "# Chemicals are the first column starting at the second row\n",
    "I = convert(Array, df[2:end,1])\n",
    "\n",
    "# Cost\n",
    "c = Dict(zip(J,df[1,3:end]))\n",
    "\n",
    "# Amt. required\n",
    "b = Dict(zip(I,df[2:end,2]))\n",
    "\n",
    "# Matrix of data \n",
    "A = Matrix(df[2:end,3:end])\n",
    "\n",
    "# Make it a Named Array\n",
    "A_NA = NamedArray(A, (I,J), (\"Chemical\", \"Process\")) "
   ]
  },
  {
   "cell_type": "code",
   "execution_count": 70,
   "metadata": {},
   "outputs": [
    {
     "name": "stdout",
     "output_type": "stream",
     "text": [
      "Termination status: OPTIMAL\n",
      "Objective value: 1433.717374299214\n"
     ]
    }
   ],
   "source": [
    "# As anyone who watches the Simpsons knows, Spider-Pig is infinitely more powerful than Spider-man. Spider-Pig has a large chemical process plant to produce its special snout fluid. To produce snout fluid, he requires a set of chemicals I, and he can produce these chemicals by running of a collection of processes J. Running process j ∈ J for one hour costs cj, and produces aij vials of chemical i ∈ I. Snout fluid requires bi vials of chemical i ∈ I.\n",
    "# Write a general linear optimization model that will inform Spider-Pig the number of hours of each process to run to minimize its cost while making enough vials of each required chemical.\n",
    "model = Model(HiGHS.Optimizer)\n",
    "@variable(model, p[J] >= 0)\n",
    "@objective(model, Min, sum(c[j]*p[j] for j in J))\n",
    "@constraint(model, [i in I], sum(A_NA[i,j]*p[j] for j in J) >= b[i])\n",
    "set_silent(model)\n",
    "optimize!(model)\n",
    "println(\"Termination status: \", termination_status(model))\n",
    "println(\"Objective value: \", objective_value(model))"
   ]
  },
  {
   "cell_type": "markdown",
   "metadata": {},
   "source": [
    "# 2-1"
   ]
  },
  {
   "cell_type": "code",
   "execution_count": 71,
   "metadata": {},
   "outputs": [
    {
     "name": "stdout",
     "output_type": "stream",
     "text": [
      "Optimal solution: [7.593750000000001, 3.84375, 1.5312500000000007, -0.0]\n",
      "Optimal solution value: 15.937500000000004\n",
      "Termination status: OPTIMAL\n"
     ]
    }
   ],
   "source": [
    "# # min 2x1 − x2 + 3x3 − 2x4\n",
    "# # s.t. 3x2 − x3 + 4x4 ≥ 10 \n",
    "# # 4x1 − 7x2 + x3 − x4 = 5\n",
    "# # x1 − 3x3 + 8x4 ≤ 3 \n",
    "# # x1, x4 ≥ 0\n",
    "# # x2, x3 Unrestricted in Sign (Free)\n",
    "\n",
    "model = Model(HiGHS.Optimizer)\n",
    "@variable(model, x[1:4])\n",
    "@objective(model, Min, 2*x[1] - x[2] + 3*x[3] - 2*x[4])\n",
    "@constraint(model, 3*x[2] - x[3] + 4*x[4] >= 10)\n",
    "@constraint(model, 4*x[1] - 7*x[2] + x[3] - x[4] == 5)\n",
    "@constraint(model, x[1] - 3*x[3] + 8*x[4] <= 3)\n",
    "\n",
    "@constraint(model, x[1] >= 0)\n",
    "@constraint(model, x[4] >= 0)\n",
    "set_silent(model)\n",
    "optimize!(model)\n",
    "\n",
    "println(\"Optimal solution: \", value.(x))\n",
    "println(\"Optimal solution value: \", objective_value(model))\n",
    "println(\"Termination status: \", termination_status(model))\n"
   ]
  },
  {
   "cell_type": "markdown",
   "metadata": {},
   "source": [
    "# 2-3"
   ]
  },
  {
   "cell_type": "code",
   "execution_count": 72,
   "metadata": {},
   "outputs": [
    {
     "name": "stdout",
     "output_type": "stream",
     "text": [
      "Optimal value of decision variables: [7.593750000000002, 3.84375, 0.0, 1.5312500000000007, 0.0, 0.0]\n",
      "Optimal solution value: -15.937500000000005\n"
     ]
    }
   ],
   "source": [
    "# Solve in standard form\n",
    "x = [:x1, :a, :b, :c, :d, :x4]\n",
    "c = [-2, 1, -1, -3, 3, 2]\n",
    "A = [  0  -3   3   1  -1  -4;\n",
    "       4  -7   7   1  -1  -1;\n",
    "      -4   7  -7  -1   1   1;\n",
    "       1   0   0  -3   3   8 ]\n",
    "b = [-10, 5, -5, 3]\n",
    "model = Model(HiGHS.Optimizer)\n",
    "@variable(model, x[1:6] >= 0)\n",
    "@objective(model, Max, c'*x)\n",
    "@constraint(model, A*x <= b)\n",
    "set_silent(model)\n",
    "optimize!(model)\n",
    "println(\"Optimal value of decision variables: \", value.(x))\n",
    "println(\"Optimal solution value: \", objective_value(model)) \n"
   ]
  },
  {
   "cell_type": "markdown",
   "metadata": {},
   "source": [
    "# 4-2"
   ]
  },
  {
   "cell_type": "code",
   "execution_count": 73,
   "metadata": {},
   "outputs": [
    {
     "name": "stdout",
     "output_type": "stream",
     "text": [
      "Optimal profit: 73879.38\n",
      "Optimal amounts sold raw: [0.0, 0.0, 0.0, 85.0]\n",
      "Optimal amounts blended into Avgas A: [3754.0, 2666.0, 920.0, 543.0]\n",
      "Optimal amounts blended into Avgas B: [59.99999999999997, 0.0, 3096.0, 672.0]\n"
     ]
    }
   ],
   "source": [
    "using JuMP, HiGHS\n",
    "model = Model(HiGHS.Optimizer)\n",
    "@variable(model, x[1:4] >= 0)  # Raw sales\n",
    "@variable(model, y[1:4] >= 0)  # Blended into Avgas A\n",
    "@variable(model, z[1:4] >= 0)  # Blended into Avgas B\n",
    "\n",
    "PN = [107, 93, 87, 108]\n",
    "RVP = [5, 8, 4, 21]\n",
    "Production = [3814, 2666, 4016, 1300]\n",
    "\n",
    "# Objective function: Maximize profit\n",
    "@objective(model, Max, \n",
    "    4.83 * sum(x) + 6.45 * sum(y) + 5.91 * sum(z)\n",
    ")\n",
    "\n",
    "for i in 1:4\n",
    "    @constraint(model, x[i] + y[i] + z[i] <= Production[i])\n",
    "end\n",
    "# Avgas A Performance Number constraint\n",
    "@constraint(model, sum(PN[i] * y[i] for i in 1:4) >= 100 * sum(y))\n",
    "# Avgas B Performance Number constraint\n",
    "@constraint(model, sum(PN[i] * z[i] for i in 1:4) >= 91 * sum(z))\n",
    "@constraint(model, sum(RVP[i] * y[i] for i in 1:4) <= 7 * sum(y))\n",
    "@constraint(model, sum(RVP[i] * z[i] for i in 1:4) <= 7 * sum(z))\n",
    "set_silent(model)\n",
    "optimize!(model)\n",
    "println(\"Optimal profit: \", objective_value(model))\n",
    "println(\"Optimal amounts sold raw: \", value.(x))\n",
    "println(\"Optimal amounts blended into Avgas A: \", value.(y))\n",
    "println(\"Optimal amounts blended into Avgas B: \", value.(z))\n"
   ]
  },
  {
   "cell_type": "markdown",
   "metadata": {},
   "source": [
    "# 5-2"
   ]
  },
  {
   "cell_type": "code",
   "execution_count": 62,
   "metadata": {},
   "outputs": [
    {
     "name": "stdout",
     "output_type": "stream",
     "text": [
      "Termination Status: OPTIMAL\n",
      "Optimal Cost: $1200.0\n"
     ]
    }
   ],
   "source": [
    "using JuMP\n",
    "using HiGHS\n",
    "\n",
    "# Data (example values - replace with actual data)\n",
    "E = [\"C\", \"Cu\", \"Mn\"]\n",
    "J = [\"F\", \"U\", \"E\", \"L\", \"O\", \"N\", \"M\"]\n",
    "\n",
    "# Parameters\n",
    "cost = Dict(\"F\" => 3, \"U\" => 2, \"E\" => 4, \"L\" => 1, \"O\" => 5, \"N\" => 2, \"M\" => 3)\n",
    "avail = Dict(\"F\" => 100, \"U\" => 200, \"E\" => 150, \"L\" => 300, \"O\" => 50, \"N\" => 100, \"M\" => 80)\n",
    "gamma = Dict(\n",
    "    \"C\" => Dict(\"F\" => 2.5, \"U\" => 3.0, \"E\" => 1.5, \"L\" => 0.0, \"O\" => 0.4, \"N\" => 0.0, \"M\" => 0.0),\n",
    "    \"Cu\" => Dict(\"F\" => 0.0, \"U\" => 0.3, \"E\" => 0.5, \"L\" => 0.9, \"O\" => 0.9, \"N\" => 0.4, \"M\" => 0.6),\n",
    "    \"Mn\" => Dict(\"F\" => 1.3, \"U\" => 1.8, \"E\" => 1.5, \"L\" => 0.0, \"O\" => 1.1, \"N\" => 1.2, \"M\" => 0.0)\n",
    ")\n",
    "alpha = Dict(\"C\" => 2.0, \"Cu\" => 0.4, \"Mn\" => 1.2)\n",
    "beta = Dict(\"C\" => 3.0, \"Cu\" => 0.6, \"Mn\" => 1.65)\n",
    "\n",
    "# Model\n",
    "model = Model(HiGHS.Optimizer)\n",
    "# Variables\n",
    "@variable(model, x[j in J] >= 0)\n",
    "# Objective: Minimize cost\n",
    "@objective(model, Min, sum(cost[j] * x[j] for j in J))\n",
    "# Constraints\n",
    "@constraint(model, sum(x[j] for j in J) == 500)  # Total steel\n",
    "@constraint(model, [e in E], sum(gamma[e][j] * x[j] for j in J) >= alpha[e] * 500)  # Min element\n",
    "@constraint(model, [e in E], sum(gamma[e][j] * x[j] for j in J) <= beta[e] * 500)   # Max element\n",
    "@constraint(model, [j in J], x[j] <= avail[j])  # Availability\n",
    "\n",
    "set_silent(model)\n",
    "optimize!(model)\n",
    "\n",
    "println(\"Termination Status: \", termination_status(model))\n",
    "println(\"Optimal Cost: \\$\", objective_value(model))"
   ]
  },
  {
   "cell_type": "markdown",
   "metadata": {},
   "source": [
    "# 5-4"
   ]
  },
  {
   "cell_type": "code",
   "execution_count": 63,
   "metadata": {},
   "outputs": [],
   "source": [
    "using DataFrames, XLSX, NamedArrays\n",
    "table = XLSX.readtable(\"alloy-blending.xlsx\", \"raw_data\"; infer_eltypes=true)\n",
    "df = DataFrame(table)\n",
    "\n",
    "J = df.Raw \n",
    "\n",
    "# Get the cost of each raw\n",
    "d = Dict(zip(J,df.Cost))\n",
    "\n",
    "table = XLSX.readtable(\"alloy-blending.xlsx\", \"order_data\"; infer_eltypes=true)\n",
    "df = DataFrame(table)\n",
    "\n",
    "I = df.Order \n",
    "\n",
    "# Now make dictionary for revenue lower and upper\n",
    "r = Dict(zip(I,df.Revenue))\n",
    "l = Dict(zip(I,df.Lower))\n",
    "u = Dict(zip(I,df.Upper))\n",
    "\n",
    "# Get the elements\n",
    "table = XLSX.readtable(\"alloy-blending.xlsx\", \"element_data\"; infer_eltypes=true)\n",
    "df = DataFrame(table)\n",
    "E = df.Element\n",
    "\n",
    "# We'll make NamedArrays for the rest.  First initialize them all with zeros \n",
    "ei_zero = zeros(length(E), length(I))\n",
    "α = NamedArray(ei_zero, (E,I), (\"Element\",\"Order\"))\n",
    "ei_zero2 = zeros(length(E), length(I))\n",
    "β = NamedArray(ei_zero2, (E,I), (\"Element\",\"Order\"))\n",
    "\n",
    "table = XLSX.readtable(\"alloy-blending.xlsx\", \"element_order_data\"; infer_eltypes=true)\n",
    "df = DataFrame(table)\n",
    "for row in eachrow(df)\n",
    "    α[row.Element,row.Order] = row.Alpha \n",
    "    β[row.Element,row.Order] = row.Beta \n",
    "end \n",
    "\n",
    "\n",
    "ej_zero = zeros(length(E), length(J))\n",
    "γ = NamedArray(ej_zero, (E,J), (\"Element\",\"Raw\"))\n",
    "\n",
    "table = XLSX.readtable(\"alloy-blending.xlsx\", \"element_raw_data\"; infer_eltypes=true)\n",
    "df = DataFrame(table)\n",
    "for row in eachrow(df)\n",
    "    γ[row.Element,row.Raw] = row.Gamma \n",
    "end \n"
   ]
  },
  {
   "cell_type": "code",
   "execution_count": 65,
   "metadata": {},
   "outputs": [
    {
     "name": "stdout",
     "output_type": "stream",
     "text": [
      "Termination Status: OPTIMAL\n",
      "Optimal Profit: $1239.3020188586154\n"
     ]
    }
   ],
   "source": [
    "model = Model(HiGHS.Optimizer)\n",
    "\n",
    "# Decision Variables: x[i,j] = tons of raw material j used for order i\n",
    "@variable(model, x[i in I, j in J] >= 0)\n",
    "\n",
    "@objective(model, Max, \n",
    "    sum(r[i] * sum(x[i, j] for j in J) for i in I) -  # Revenue from orders\n",
    "    sum(d[j] * sum(x[i, j] for i in I) for j in J)     # Cost of raw materials\n",
    ")\n",
    "\n",
    "# 1. Order Quantity Constraints\n",
    "@constraint(model, [i in I], sum(x[i, j] for j in J) >= l[i])  \n",
    "@constraint(model, [i in I], sum(x[i, j] for j in J) <= u[i])  \n",
    "\n",
    "# 2. Element Composition Constraints\n",
    "@constraint(model, [i in I, e in E],\n",
    "    sum((γ[e, j] - α[e, i]) * x[i, j] for j in J) >= 0  # Min element requirement\n",
    ")\n",
    "@constraint(model, [i in I, e in E],\n",
    "    sum((γ[e, j] - β[e, i]) * x[i, j] for j in J) <= 0  # Max element requirement\n",
    ")\n",
    "set_silent(model)\n",
    "optimize!(model)\n",
    "\n",
    "println(\"Termination Status: \", termination_status(model))\n",
    "println(\"Optimal Profit: \\$\", objective_value(model))"
   ]
  }
 ],
 "metadata": {
  "kernelspec": {
   "display_name": "Julia 1.11.3",
   "language": "julia",
   "name": "julia-1.11"
  },
  "language_info": {
   "file_extension": ".jl",
   "mimetype": "application/julia",
   "name": "julia",
   "version": "1.11.3"
  }
 },
 "nbformat": 4,
 "nbformat_minor": 2
}
