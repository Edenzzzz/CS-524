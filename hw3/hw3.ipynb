{
 "cells": [
  {
   "cell_type": "markdown",
   "metadata": {},
   "source": [
    "# 1-2"
   ]
  },
  {
   "cell_type": "code",
   "execution_count": 12,
   "metadata": {},
   "outputs": [
    {
     "name": "stdout",
     "output_type": "stream",
     "text": [
      "Max final cash amount: 155789.88297872338\n"
     ]
    }
   ],
   "source": [
    "using JuMP, HiGHS\n",
    "model = Model(HiGHS.Optimizer)\n",
    "bid_prices = [980, 970, 960, 940]\n",
    "ask_prices = [990, 985, 972, 954]\n",
    "\n",
    "payouts = [\n",
    "    [100, 80, 70, 60],    # Year 1\n",
    "    [110, 90, 80, 50],    # Year 2\n",
    "    [1100, 1120, 1090, 1110]  # Year 3\n",
    "]\n",
    "income_required = [10000, 11000]\n",
    "@variable(model, x[1:4] >= 0)\n",
    "@variable(model, y[1:4] >= 0)\n",
    "@variable(model, c[0:3] >= 0)\n",
    "@constraint(model, c[0] == 100000 + sum(bid_prices[i] * y[i] for i in 1:4) - sum(ask_prices[i] * x[i] for i in 1:4))\n",
    "@constraint(model, c[1] == 1.03 * c[0] + sum(payouts[1][i] * (x[i] - y[i]) for i in 1:4) - income_required[1])\n",
    "@constraint(model, c[2] == 1.03 * c[1] + sum(payouts[2][i] * (x[i] - y[i]) for i in 1:4) - income_required[2]) \n",
    "@constraint(model, c[3] == 1.03 * c[2] + sum(payouts[3][i] * (x[i] - y[i]) for i in 1:4))\n",
    "@constraint(model, max_sell[i in 1:4], x[i] <= 1000)\n",
    "@constraint(model, max_buy[i in 1:4], y[i] <= 1000)\n",
    "@objective(model, Max, c[3])\n",
    "\n",
    "set_silent(model)\n",
    "optimize!(model)\n",
    "\n",
    "println(\"Max final cash amount: \", objective_value(model))"
   ]
  },
  {
   "cell_type": "markdown",
   "metadata": {},
   "source": [
    "# 2-2"
   ]
  },
  {
   "cell_type": "code",
   "execution_count": 30,
   "metadata": {},
   "outputs": [
    {
     "name": "stdout",
     "output_type": "stream",
     "text": [
      "Optimal Production Schedule:\n",
      "Month 1: Production = 10000.000000000002, Inventory = 8000.0\n",
      "Month 2: Production = 10666.666666666668, Inventory = 10666.666666666666\n",
      "Month 3: Production = 10666.666666666668, Inventory = 1333.3333333333333\n",
      "Month 4: Production = 10666.666666666668, Inventory = 0.0\n",
      "Month 5: Production = 8000.0, Inventory = 2000.0\n",
      "Month 6: Production = 8000.0, Inventory = 7999.999999999999\n",
      "Total Cost: 25266.666666666668\n"
     ]
    }
   ],
   "source": [
    "using JuMP\n",
    "using GLPK\n",
    "\n",
    " \n",
    "demand = [4000, 8000, 20000, 12000, 6000, 2000] \n",
    "initial_inventory = 2000  \n",
    "initial_production = 4000 \n",
    "\n",
    "model = Model(GLPK.Optimizer)\n",
    "\n",
    "@variable(model, P[0:6] >= 0)  \n",
    "@variable(model, V[0:6] >= 0)\n",
    "@variable(model, D[1:6] >= 0)\n",
    "@variable(model, I[1:6] >= 0)  \n",
    "@variable(model, Va[0:6] >= 0)  \n",
    "@variable(model, Vb[0:6] >= 0)  \n",
    "\n",
    "@objective(model, Min, \n",
    "    sum(0.10 * P[t] + 1.50 * I[t] + 1.00 * D[t] + 0.20 * Va[t] + 0.50 * Vb[t] for t in months)\n",
    ")\n",
    "\n",
    "\n",
    "@constraint(model, V[0] == initial_inventory)  \n",
    "@constraint(model, Va[0] == initial_inventory)\n",
    "@constraint(model, P[0] == initial_production) \n",
    "\n",
    "for t in 1:6\n",
    "    @constraint(model, V[t-1] + P[t] - demand[t] == V[t])\n",
    "end\n",
    "\n",
    "for t in 1:6\n",
    "    @constraint(model, P[t] ==  P[t-1] + I[t] - D[t])\n",
    "end\n",
    "\n",
    "# Inventory tiered storage constraint\n",
    "for t in 1:6\n",
    "    @constraint(model, Va[t] + Vb[t] == V[t])\n",
    "    @constraint(model, Va[t] <= 8000)\n",
    "end\n",
    "\n",
    "# Solve the model\n",
    "optimize!(model)\n",
    "\n",
    "# Output the results\n",
    "println(\"Optimal Production Schedule:\")\n",
    "for t in months\n",
    "    println(\"Month $t: Production = \", value(P[t]), \", Inventory = \", value(V[t]))\n",
    "end\n",
    "println(\"Total Cost: \", objective_value(model))"
   ]
  },
  {
   "cell_type": "markdown",
   "metadata": {},
   "source": [
    "# 2-4"
   ]
  },
  {
   "cell_type": "code",
   "execution_count": 35,
   "metadata": {},
   "outputs": [
    {
     "name": "stdout",
     "output_type": "stream",
     "text": [
      "Optimal Production Schedule:\n",
      "Month 1: Production = 8333.333333333334, Inventory = 6333.333333333334\n",
      "Month 2: Production = 8333.333333333334, Inventory = 6666.666666666667\n",
      "Month 3: Production = 8333.333333333334, Inventory = 0.0\n",
      "Month 4: Production = 8333.333333333334, Inventory = 0.0\n",
      "Month 5: Production = 8333.333333333334, Inventory = 0.0\n",
      "Month 6: Production = 8333.333333333334, Inventory = 0.0\n",
      "Total Cost: 19100.000000000004\n"
     ]
    }
   ],
   "source": [
    "using JuMP\n",
    "using GLPK\n",
    "\n",
    " \n",
    "demand = [4000, 8000, 20000, 12000, 6000, 2000] \n",
    "initial_inventory = 2000  \n",
    "initial_production = 4000 \n",
    "\n",
    "model = Model(GLPK.Optimizer)\n",
    "\n",
    "@variable(model, P[0:6] >= 0)  \n",
    "@variable(model, V[0:6] >= 0)\n",
    "@variable(model, D[1:6] >= 0)\n",
    "@variable(model, I[1:6] >= 0)  \n",
    "@variable(model, Va[0:6] >= 0)  \n",
    "@variable(model, Vb[0:6] >= 0)  \n",
    "@variable(model, b[0:6] >=0) # backtrack from month t + 1\n",
    "@objective(model, Min, \n",
    "    sum(0.10 * P[t] + 1.50 * I[t] + 1.00 * D[t] + 0.20 * Va[t] + 0.50 * Vb[t] + 0.25 * b[t] for t in months)\n",
    ")\n",
    "\n",
    "\n",
    "@constraint(model, V[0] == initial_inventory)  \n",
    "@constraint(model, Va[0] == initial_inventory)\n",
    "@constraint(model, P[0] == initial_production) \n",
    "@constraint(model, b[0] == 0)\n",
    "for t in 1:6\n",
    "    @constraint(model, V[t-1] + P[t] + b[t] == V[t] + demand[t] + b[t - 1])\n",
    "end\n",
    "\n",
    "for t in 1:6\n",
    "    @constraint(model, P[t] ==  P[t-1] + I[t] - D[t])\n",
    "end\n",
    "\n",
    "# Inventory tiered storage constraint\n",
    "for t in 1:6\n",
    "    @constraint(model, Va[t] + Vb[t] == V[t])\n",
    "    @constraint(model, Va[t] <= 8000)\n",
    "end\n",
    "\n",
    "# Solve the model\n",
    "optimize!(model)\n",
    "\n",
    "# Output the results\n",
    "println(\"Optimal Production Schedule:\")\n",
    "for t in months\n",
    "    println(\"Month $t: Production = \", value(P[t]), \", Inventory = \", value(V[t]))\n",
    "end\n",
    "println(\"Total Cost: \", objective_value(model))"
   ]
  },
  {
   "cell_type": "markdown",
   "metadata": {},
   "source": [
    "# 3-2"
   ]
  },
  {
   "cell_type": "code",
   "execution_count": 43,
   "metadata": {},
   "outputs": [
    {
     "name": "stdout",
     "output_type": "stream",
     "text": [
      "Optimal solution:7.917808219178083\n"
     ]
    }
   ],
   "source": [
    "model = Model(GLPK.Optimizer)\n",
    "@variable(model, x[1:6])\n",
    "@variable(model, t[1:6]) # auxiliary variables\n",
    "\n",
    "@constraint(model, 3x[1] + 3x[2] + 4x[3] + 6x[6] == 15)\n",
    "@constraint(model, 2x[1] - 6x[2] - x[3] - 5x[4] + 2x[5] - x[6] == 10)\n",
    "@constraint(model, x[1] - x[2] + x[3] - 3x[5] + x[6] == 2)\n",
    "@constraint(model, 2x[1] + x[3] - x[4] + 6x[5] == 0)\n",
    "\n",
    "@objective(model, Min, sum(t[i] for i in 1:6))\n",
    "# @constraint(model, t[i] >= -x[i] for i in 1:6)\n",
    "# @constraint(model, t[i] >= x[i] for i in 1:6)\n",
    "for i in 1:6\n",
    "    @constraint(model, t[i] >= -x[i])\n",
    "    @constraint(model, t[i] >= x[i])\n",
    "end\n",
    "optimize!(model)\n",
    "println(\"Optimal solution:\", objective_value(model))"
   ]
  },
  {
   "cell_type": "markdown",
   "metadata": {},
   "source": [
    "# 3-4"
   ]
  },
  {
   "cell_type": "code",
   "execution_count": 46,
   "metadata": {},
   "outputs": [
    {
     "name": "stdout",
     "output_type": "stream",
     "text": [
      "Optimal solution:3.105527638190955\n"
     ]
    }
   ],
   "source": [
    "model = Model(GLPK.Optimizer)\n",
    "@variable(model, x[1:6])\n",
    "@variable(model, z) # auxiliary variables\n",
    "\n",
    "@constraint(model, 3x[1] + 3x[2] + 4x[3] + 6x[6] == 15)\n",
    "@constraint(model, 2x[1] - 6x[2] - x[3] - 5x[4] + 2x[5] - x[6] == 10)\n",
    "@constraint(model, x[1] - x[2] + x[3] - 3x[5] + x[6] == 2)\n",
    "@constraint(model, 2x[1] + x[3] - x[4] + 6x[5] == 0)\n",
    "\n",
    "@objective(model, Min, z)\n",
    "for i in 1:6\n",
    "    @constraint(model, z >= -x[i])\n",
    "    @constraint(model, z >= x[i])\n",
    "end\n",
    "optimize!(model)\n",
    "println(\"Optimal solution:\", objective_value(model))"
   ]
  },
  {
   "cell_type": "markdown",
   "metadata": {},
   "source": [
    "# 4-2"
   ]
  },
  {
   "cell_type": "code",
   "execution_count": 48,
   "metadata": {},
   "outputs": [
    {
     "name": "stdout",
     "output_type": "stream",
     "text": [
      "Optimal Start Times:\n",
      "Task 1: Start Time = 0.0\n",
      "Task 2: Start Time = 2.0\n",
      "Task 3: Start Time = 18.0\n",
      "Task 4: Start Time = 18.0\n",
      "Task 5: Start Time = 27.0\n",
      "Task 6: Start Time = 37.0\n",
      "Task 7: Start Time = 26.0\n",
      "Task 8: Start Time = 43.0\n",
      "Task 9: Start Time = 43.0\n",
      "Task 10: Start Time = 43.0\n",
      "Task 11: Start Time = 43.0\n",
      "Task 12: Start Time = 52.0\n",
      "Task 13: Start Time = 28.0\n",
      "Task 14: Start Time = 53.0\n",
      "Task 15: Start Time = 60.0\n",
      "Task 16: Start Time = 60.0\n",
      "Task 17: Start Time = 54.0\n",
      "Task 18: Start Time = 63.0\n",
      "Minimum Project Completion Time: 64.0\n"
     ]
    }
   ],
   "source": [
    "using JuMP\n",
    "using GLPK\n",
    "\n",
    "T = 1:18  \n",
    "d = [2, 16, 9, 8, 10, 6, 2, 2, 9, 5, 3, 2, 1, 7, 4, 3, 9, 1]  \n",
    "\n",
    "P = [\n",
    "    (1, 2), (2, 3), (2, 4), (3, 5), (4, 6), (4, 7), (5, 6), (6, 8), (6, 9), (6, 10), \n",
    "    (6, 11), (9, 12), (7, 13), (2, 14), (4, 15), (14, 15), (8, 16), (11, 16), (14, 16), \n",
    "    (12, 17), (17, 18)\n",
    "]\n",
    "\n",
    "model = Model(GLPK.Optimizer)\n",
    "@variable(model, s[T] >= 0) \n",
    "@variable(model, z >= 0)\n",
    "@objective(model, Min, z)\n",
    "\n",
    "# Precedence constraints\n",
    "for (i, j) in P\n",
    "    @constraint(model, s[j] >= s[i] + d[i])\n",
    "end\n",
    "\n",
    "# Project completion time constraints\n",
    "for t in T\n",
    "    @constraint(model, z >= s[t] + d[t])\n",
    "end\n",
    "\n",
    "optimize!(model)\n",
    "println(\"Optimal Start Times:\")\n",
    "for t in T\n",
    "    println(\"Task $t: Start Time = \", value(s[t]))\n",
    "end\n",
    "println(\"Minimum Project Completion Time: \", value(z))"
   ]
  },
  {
   "cell_type": "markdown",
   "metadata": {},
   "source": [
    "# 4-4"
   ]
  },
  {
   "cell_type": "code",
   "execution_count": 50,
   "metadata": {},
   "outputs": [
    {
     "name": "stdout",
     "output_type": "stream",
     "text": [
      "Project Completion Time: 52.0\n",
      "Weeks Completed Early: 12.0\n",
      "Maximum Profit: $296.0\n"
     ]
    }
   ],
   "source": [
    "using JuMP\n",
    "using GLPK\n",
    "\n",
    "# Define the data\n",
    "T = 1:18  # Set of tasks\n",
    "d = [2, 16, 9, 8, 10, 6, 2, 2, 9, 5, 3, 2, 1, 7, 4, 3, 9, 1]  # Durations of tasks\n",
    "m = [0, 3, 1, 2, 2, 1, 1, 0, 2, 1, 1, 0, 0, 2, 2, 1, 3, 0]  # Maximum reduction per task\n",
    "c = [0, 5, 3, 4, 6, 2, 1, 0, 7, 3, 2, 0, 0, 4, 5, 2, 6, 0]  # Cost of reducing each task by one week\n",
    "R = 30  # Weekly bonus (in thousands of dollars)\n",
    "χ_star = 64  # Minimum completion time without reductions (from Problem 4-2)\n",
    "\n",
    "# Precedence constraints (i, j) where task i must finish before task j starts\n",
    "P = [\n",
    "    (1, 2), (2, 3), (2, 4), (3, 5), (4, 6), (4, 7), (5, 6), (6, 8), (6, 9), (6, 10), \n",
    "    (6, 11), (9, 12), (7, 13), (2, 14), (4, 15), (14, 15), (8, 16), (11, 16), (14, 16), \n",
    "    (12, 17), (17, 18)\n",
    "]\n",
    "\n",
    "model = Model(GLPK.Optimizer)\n",
    "@variable(model, s[T] >= 0)  # Start time of each task\n",
    "@variable(model, n[T] >= 0)  # Number of weeks each task is reduced\n",
    "@variable(model, z >= 0)  # Number of weeks the project is completed early\n",
    "\n",
    "@objective(model, Max, R * z - sum(c[t] * n[t] for t in T))\n",
    "\n",
    "# Precedence constraints\n",
    "for (i, j) in P\n",
    "    @constraint(model, s[j] >= s[i] + (d[i] - n[i]))\n",
    "end\n",
    "# Project completion time constraints\n",
    "for t in T\n",
    "    @constraint(model, χ_star - z >= s[t] + (d[t] - n[t]))\n",
    "end\n",
    "\n",
    "\n",
    "# Task reduction limits\n",
    "for t in T\n",
    "    @constraint(model, n[t] <= m[t])\n",
    "end\n",
    "\n",
    "# Solve the model\n",
    "optimize!(model)\n",
    "\n",
    "# # Results\n",
    "# println(\"Optimal Start Times:\")\n",
    "# for t in T\n",
    "#     println(\"Task $t: Start Time = \", value(s[t]), \", Reduction = \", value(n[t]))\n",
    "# end\n",
    "println(\"Project Completion Time: \", value(χ_star - z))\n",
    "println(\"Weeks Completed Early: \", value(z))\n",
    "println(\"Maximum Profit: \\$\", objective_value(model))"
   ]
  },
  {
   "cell_type": "markdown",
   "metadata": {},
   "source": [
    "# 5-2"
   ]
  },
  {
   "cell_type": "code",
   "execution_count": 53,
   "metadata": {},
   "outputs": [
    {
     "name": "stdout",
     "output_type": "stream",
     "text": [
      "Shortest Path Trips:\n",
      "From Short Stack to Old Fashioned: 6 minutes\n",
      "From Old Fashioned to Ian’s at Garver: 4 minutes\n",
      "From Ian’s at Garver to Alchemy: 1 minutes\n",
      "Total Driving Time: 11.0 minutes\n"
     ]
    }
   ],
   "source": [
    "using JuMP\n",
    "using GLPK\n",
    "\n",
    "restaurants = [\"Short Stack\", \"Great Dane\", \"Old Fashioned\", \"Red Sushi\", \"Ian’s at Garver\", \"Weary Traveler\", \"Alchemy\"]\n",
    "n = length(restaurants)  # Number of restaurants\n",
    "\n",
    "E = [\n",
    "    (\"Short Stack\", \"Great Dane\", 4),\n",
    "    (\"Short Stack\", \"Old Fashioned\", 6),\n",
    "    (\"Short Stack\", \"Red Sushi\", 5),\n",
    "    (\"Great Dane\", \"Old Fashioned\", 7),\n",
    "    (\"Great Dane\", \"Weary Traveler\", 2),\n",
    "    (\"Old Fashioned\", \"Red Sushi\", 5.5),\n",
    "    (\"Old Fashioned\", \"Ian’s at Garver\", 4),\n",
    "    (\"Red Sushi\", \"Ian’s at Garver\", 5),\n",
    "    (\"Ian’s at Garver\", \"Alchemy\", 1),\n",
    "    (\"Weary Traveler\", \"Alchemy\", 6),\n",
    "    (\"Weary Traveler\", \"Ian’s at Garver\", 8)\n",
    "]\n",
    "\n",
    "A = zeros(Int, n, length(E))  # Initialize incidence matrix\n",
    "for (idx, (i, j, c)) in enumerate(E)\n",
    "    i_idx = findfirst(isequal(i), restaurants)\n",
    "    j_idx = findfirst(isequal(j), restaurants)\n",
    "    A[i_idx, idx] = 1  # Edge leaves node i\n",
    "    A[j_idx, idx] = -1  # Edge enters node j\n",
    "end\n",
    "\n",
    "b = zeros(n)\n",
    "start_idx = findfirst(isequal(\"Short Stack\"), restaurants)\n",
    "end_idx = findfirst(isequal(\"Alchemy\"), restaurants)\n",
    "b[start_idx] = 1  # Net flow at start node = +1\n",
    "b[end_idx] = -1   # Net flow at end node = -1\n",
    "\n",
    "# Create the model\n",
    "model = Model(GLPK.Optimizer)\n",
    "\n",
    "# Decision variables: x[e] = 1 if the path includes edge e\n",
    "@variable(model, x[1:length(E)], Bin)\n",
    "\n",
    "c = [c for (i, j, c) in E]  # Vector of driving times\n",
    "@objective(model, Min, c' * x)\n",
    "\n",
    "# Flow conservation constraints: A x = b\n",
    "@constraint(model, A * x .== b)\n",
    "\n",
    "optimize!(model)\n",
    "\n",
    "println(\"Shortest Path Trips:\")\n",
    "for (idx, (i, j, c)) in enumerate(E)\n",
    "    if value(x[idx]) == 1\n",
    "        println(\"From $i to $j: $c minutes\")\n",
    "    end\n",
    "end\n",
    "println(\"Total Driving Time: \", objective_value(model), \" minutes\")"
   ]
  }
 ],
 "metadata": {
  "kernelspec": {
   "display_name": "Julia 1.11.3",
   "language": "julia",
   "name": "julia-1.11"
  },
  "language_info": {
   "file_extension": ".jl",
   "mimetype": "application/julia",
   "name": "julia",
   "version": "1.11.3"
  }
 },
 "nbformat": 4,
 "nbformat_minor": 2
}
