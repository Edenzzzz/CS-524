{
 "cells": [
  {
   "cell_type": "markdown",
   "metadata": {},
   "source": [
    "# Homework 0: Exercises for Julia Tutorial\n",
    "\n",
    "After you have gone through the tutorial, you should be able to fill in these simple exercises. To complete the homework, please take the following steps: \n",
    "\n",
    "1. Install Julia in your local computing environment\n",
    "2. Decide on your development environment (IJulia, VSCode, or another)\n",
    "3. Be sure to run all of the cells\n",
    "4. Print a pdf of the notebook, ensuring that everything rendered correctly \n",
    "5. Upload the pdf to Gradescope, and match the pages of the PDF to the problems in the assignment.\n"
   ]
  },
  {
   "cell_type": "markdown",
   "metadata": {},
   "source": [
    "#### Exercises\n",
    "\n",
    "Get started by reading the following statements about your class work and signing that you understand and agree by typing your name at the bottom of this cell.\n",
    "\n",
    "1. You are encouraged to discuss homework problems with classmates and even work in groups. \n",
    "\n",
    "2. However, **the work you turn in must be your own**. You must not communicate files containing code or answers to homework questions to each other.\n",
    "\n",
    "3. Many homeworks require the use of Julia and JuMP. We'll provide instructions to help you install this programming environment on your own computer, together with tutorials and exercises, but ultimately it is your responsibility to ensure that you have a stable platform on which to develop and run Julia code and jupyter notebooks. \n",
    "\n",
    "4. Submission of all homeworks will be through Gradescope. You will be required to submit a **pdf printout of your jupyter notebook**, NOT source code. \n",
    "\n",
    "    a. Please submit the answers **in the same order as on the assignment**\n",
    "\n",
    "    b. It is useful to denote the start of each question in your notebook using a large font, for example:\n",
    "    # Question 1a\n",
    "    this will help you do the matching in the Gradescope submission tool\n",
    "\n",
    "5. You can learn to do optimization modeling only by doing it yourself, not by following along what others are doing!\n",
    "\n",
    "6. **PLAGIARISM AND OTHER TYPES OF ACADEMIC MISCONDUCT IS NOT TOLERATED AND WILL HAVE CONSEQUENCES.** Please read [this information](https://conduct.students.wisc.edu/academic-misconduct/) about UW's definition of academic misconduct.\n",
    "\n"
   ]
  },
  {
   "cell_type": "markdown",
   "metadata": {},
   "source": [
    "#### 1.0  Signature\n",
    "\n",
    "PLEASE ACKNOWLEDGE YOUR UNDERSTANDING AND ACCEPTANCE OF THE RULES OF THE COURSE BY TYPING YOUR NAME IN THIS MARKDOWN CELL HERE:\n",
    "Wenxuan Tan"
   ]
  },
  {
   "cell_type": "markdown",
   "metadata": {},
   "source": [
    "#### 1.1 Working with arrays and tuples\n",
    "\n",
    "Define the array \n",
    "\n",
    "`square = [1, 2, 3]` \n",
    "\n",
    "and the tuple\n",
    "\n",
    "`round = (4,5,6)`"
   ]
  },
  {
   "cell_type": "code",
   "execution_count": null,
   "metadata": {},
   "outputs": [],
   "source": []
  },
  {
   "cell_type": "markdown",
   "metadata": {},
   "source": [
    "Access the first element of the array and the tuple, and add them together. "
   ]
  },
  {
   "cell_type": "code",
   "execution_count": null,
   "metadata": {},
   "outputs": [],
   "source": []
  },
  {
   "cell_type": "markdown",
   "metadata": {},
   "source": [
    "Change the first element of the array to be equal to the first element of the tuple."
   ]
  },
  {
   "cell_type": "code",
   "execution_count": null,
   "metadata": {},
   "outputs": [],
   "source": []
  },
  {
   "cell_type": "markdown",
   "metadata": {},
   "source": [
    "Try to change the third element of the tuple to be equal to that of the array.\n",
    "\n",
    "Why will this not work?"
   ]
  },
  {
   "cell_type": "code",
   "execution_count": null,
   "metadata": {},
   "outputs": [],
   "source": [
    "\n",
    "# This will not work, because ...\n",
    "#  tuples are immutable"
   ]
  },
  {
   "cell_type": "markdown",
   "metadata": {},
   "source": [
    "#### 1.2 Dictionaries\n",
    "\n",
    "Create a dictionary which lists three of your favorite restaurants and their ranking (1, 2 or 3)."
   ]
  },
  {
   "cell_type": "code",
   "execution_count": null,
   "metadata": {},
   "outputs": [],
   "source": []
  },
  {
   "cell_type": "markdown",
   "metadata": {},
   "source": [
    "#### 1.3 Matrices (two-dimension arrays)\n",
    "Create the following Julia matrix: $$B = \\begin{bmatrix} 1 & 2 & 1 \\\\ 3 & 0 & 1 \\\\ 0 & 2 & 4 \\end{bmatrix}$$\n",
    "\n",
    "(Please also look in this markdown cell about how to write matrices in your notebooks)"
   ]
  },
  {
   "cell_type": "code",
   "execution_count": null,
   "metadata": {},
   "outputs": [],
   "source": []
  },
  {
   "cell_type": "markdown",
   "metadata": {},
   "source": [
    "Change the first element in the first row of B into 5, and check if it is an even number. (Tip: Use \"a%b == c\", which means the remainder of a/b is c)"
   ]
  },
  {
   "cell_type": "code",
   "execution_count": null,
   "metadata": {},
   "outputs": [],
   "source": []
  },
  {
   "cell_type": "markdown",
   "metadata": {},
   "source": [
    "#### 1.4 For loops"
   ]
  },
  {
   "cell_type": "markdown",
   "metadata": {},
   "source": [
    "Write a for loop to print the integers from 1 to 5."
   ]
  },
  {
   "cell_type": "code",
   "execution_count": null,
   "metadata": {},
   "outputs": [],
   "source": []
  },
  {
   "cell_type": "markdown",
   "metadata": {},
   "source": [
    "Now write a for loop to go through every element in the above matrix $B$, check if it is odd. If it is, then add 1 to that element of the matrix, and print your resulting matrix. "
   ]
  },
  {
   "cell_type": "code",
   "execution_count": null,
   "metadata": {},
   "outputs": [],
   "source": []
  },
  {
   "cell_type": "markdown",
   "metadata": {},
   "source": [
    "#### 1.5 List Comprehensions\n",
    "\n",
    "Create a list (vector) of integers called my_list that contains the integers 1 to 10 in one line using a list comprehension"
   ]
  },
  {
   "cell_type": "code",
   "execution_count": null,
   "metadata": {},
   "outputs": [],
   "source": []
  },
  {
   "cell_type": "markdown",
   "metadata": {},
   "source": [
    "Create a list (vector) called my_list2 of the square of all odd numbers from 13 to 17 using a list comprehension"
   ]
  },
  {
   "cell_type": "code",
   "execution_count": null,
   "metadata": {},
   "outputs": [],
   "source": []
  },
  {
   "cell_type": "markdown",
   "metadata": {},
   "source": [
    "#### 1.6 Functions\n",
    "Write a function called `my_func` which takes a number as an input, and return an array containing integers from 1 to $n$. And try your function with input 5."
   ]
  },
  {
   "cell_type": "code",
   "execution_count": null,
   "metadata": {},
   "outputs": [],
   "source": []
  },
  {
   "cell_type": "markdown",
   "metadata": {},
   "source": [
    "#### 1.7 Plots\n",
    "\n",
    "This problem is designed to ensure that you can plot using Julia and print the plots\n",
    "\n",
    "install the \"Plots\" package in your Julia environment by executing the cell below\n"
   ]
  },
  {
   "cell_type": "code",
   "execution_count": null,
   "metadata": {},
   "outputs": [],
   "source": [
    "using Pkg\n",
    "Pkg.add(\"Plots\")\n"
   ]
  },
  {
   "cell_type": "markdown",
   "metadata": {},
   "source": [
    "Check the status of your packages by running the command in the cell below "
   ]
  },
  {
   "cell_type": "code",
   "execution_count": null,
   "metadata": {},
   "outputs": [],
   "source": [
    "Pkg.status()"
   ]
  },
  {
   "cell_type": "markdown",
   "metadata": {},
   "source": [
    "Now make a plot by executing the cell below.  This will make a simple linegraph using the Julia Plots package \n"
   ]
  },
  {
   "cell_type": "code",
   "execution_count": null,
   "metadata": {},
   "outputs": [],
   "source": [
    "using Plots \n",
    "x = 1 : 5\n",
    "y = [-1, 4, 0, 8, 2]\n",
    "plot(x,y,lw=2)"
   ]
  },
  {
   "cell_type": "markdown",
   "metadata": {},
   "source": [
    "#### 1.8  LaTeX\n",
    "\n",
    "This is to ensure that you can write and print mathematics in your Markdown code as part of your submissions. \n",
    "\n",
    "This is an example of markdown.\n",
    "We can make a list like this\n",
    "* Item 1\n",
    "* Item 2\n",
    "* Item 3\n",
    "\n",
    "And LaTeX by putting a single dollar sign $x_1 = 4$, to put it inline \n",
    "\n",
    "And double dollar signs to make it its own line\n",
    "\n",
    "$$\\sum_{j=1}^8 \\operatorname{sin}(x) \\leq 14$$\n",
    "\n",
    "You can even do some alignment of equations:\n",
    "\n",
    "\\begin{align}\n",
    "x_1 &= 4\\\\\n",
    "x_2 &= 18\\\\\n",
    "\\sum_{j=1}^n a_{ij} x_j &\\geq b_i \\quad \\forall i \\in M\n",
    "\\end{align}\n",
    "\n",
    "And do matrices:\n",
    "$$ A = \\begin{bmatrix} \n",
    " 1 & 7 & 3\\\\\n",
    " -1 & \\alpha & \\beta\n",
    "\\end{bmatrix} $$\n",
    "\n",
    "Look at the markdown in this cell to ensure you know how to do this\n"
   ]
  },
  {
   "cell_type": "code",
   "execution_count": null,
   "metadata": {},
   "outputs": [],
   "source": []
  },
  {
   "cell_type": "code",
   "execution_count": null,
   "metadata": {},
   "outputs": [],
   "source": []
  },
  {
   "cell_type": "markdown",
   "metadata": {},
   "source": [
    "# An introduction to JuMP\n",
    "\n",
    "\n",
    "Welcome! This tutorial will introduce you to the basics of the latest stable version of **JuMP**. If you haven't yet, work through the tutorial on Julia and do the exercises first.\n",
    "\n",
    "**WARNING**: This tutorial covers material that will be discussed in class in the first couple of weeks. If something feels confusing, don't worry too much right now.\n",
    "\n",
    "Some useful resources as you are learning JuMP are:\n",
    "- [JuMP documentation](https://jump.dev/JuMP.jl/stable/)\n",
    "- [Textbook: Julia Programming for Operations Research](http://www.chkwon.net/julia/)\n",
    "- [the Discourse forum](https://discourse.julialang.org/c/domain/opt)\n"
   ]
  },
  {
   "cell_type": "markdown",
   "metadata": {},
   "source": [
    "#### 2.0: Jump setup\n",
    "\n",
    "Before we start, let's be sure we have installed the following Julia packages (we'll explain more about what those packages are later!)."
   ]
  },
  {
   "cell_type": "code",
   "execution_count": null,
   "metadata": {},
   "outputs": [],
   "source": [
    "using Pkg\n",
    "Pkg.add(\"Ipopt\")     \n",
    "Pkg.add(\"HiGHS\")\n",
    "Pkg.add(\"Interact\")\n",
    "Pkg.add(\"Plots\")"
   ]
  },
  {
   "cell_type": "markdown",
   "metadata": {},
   "source": [
    "Installing the packages typically takes a moment. If you are wondering when a cell is done running, you can check on the left hand side:\n",
    "\n",
    "In [\\*]:     The cell is still running\n",
    "\n",
    "In [1]:      The cell is done (the number within the brackets will change).\n",
    "\n",
    "\n",
    "If you want to check which packages you have installed, the following command will give you the full list and the version numbers."
   ]
  },
  {
   "cell_type": "code",
   "execution_count": null,
   "metadata": {},
   "outputs": [],
   "source": [
    "Pkg.status()"
   ]
  },
  {
   "cell_type": "markdown",
   "metadata": {},
   "source": [
    "If you want to update your packages to a newer version, you can use the command `Pkg.update()`."
   ]
  },
  {
   "cell_type": "code",
   "execution_count": null,
   "metadata": {},
   "outputs": [],
   "source": [
    "Pkg.update()"
   ]
  },
  {
   "cell_type": "markdown",
   "metadata": {},
   "source": [
    "#### 2.1 Building an optimization model.  JuMP Variables"
   ]
  },
  {
   "cell_type": "markdown",
   "metadata": {},
   "source": [
    "First, load the JuMP package into your current environment."
   ]
  },
  {
   "cell_type": "code",
   "execution_count": null,
   "metadata": {},
   "outputs": [],
   "source": [
    "using JuMP"
   ]
  },
  {
   "cell_type": "markdown",
   "metadata": {},
   "source": [
    "Now you can start building your optimization model, which we will also refer to as a **JuMP model**!\n",
    "\n",
    "Remember that there are three components to every optimization problem:\n",
    "\n",
    "1. Decision variables (the values we are allowed to determine)\n",
    "2. Objective (the goal we want to achieve, which is expressed as a function of the decision variables)\n",
    "3. Constraints (limitations that describe which choices are possible to make, also expressed as functions of the decision variables)\n",
    "\n",
    "We will go through how to model these three parts using Julia and JuMP one by one. Let's start with defining decision variables:"
   ]
  },
  {
   "cell_type": "code",
   "execution_count": null,
   "metadata": {},
   "outputs": [],
   "source": [
    "first_model = Model()\n",
    "@variable(first_model, y >= 0)\n",
    "@variable(first_model, 1 <= z <= 2)\n",
    "first_model"
   ]
  },
  {
   "cell_type": "code",
   "execution_count": null,
   "metadata": {},
   "outputs": [],
   "source": [
    "# Let's find the lower bound of the z variable\n",
    "JuMP.lower_bound(z)"
   ]
  },
  {
   "cell_type": "markdown",
   "metadata": {},
   "source": [
    "Other ways to create variables\n",
    "\n",
    "Sometimes, we need to create problems with MANY variables. Then it is useful to not have to create each variable separately. \n",
    "\n",
    "A useful feature is that we can create arrays of JuMP variables."
   ]
  },
  {
   "cell_type": "code",
   "execution_count": null,
   "metadata": {},
   "outputs": [],
   "source": [
    "model = Model()\n",
    "@variable(model, x[1:4] >= 0)\n",
    "x"
   ]
  },
  {
   "cell_type": "markdown",
   "metadata": {},
   "source": [
    "The indices of the arrays don't have to be integers. They can be anything, like a string `\"name\"` or a symbol `:symbol_name`.\n",
    "\n",
    "Let's create a variable that uses both number indices and symbols!"
   ]
  },
  {
   "cell_type": "code",
   "execution_count": null,
   "metadata": {},
   "outputs": [],
   "source": [
    "model = Model()\n",
    "@variable(model, x[i = 1:2, j = [:A, :B]] >= i)\n",
    "\n",
    "println(\"Printing my optimization variable: \")\n",
    "println()\n",
    "println(x)\n",
    "println()\n",
    "println(\"The lower bound of the first element is \", JuMP.lower_bound(x[1,:A]))"
   ]
  },
  {
   "cell_type": "markdown",
   "metadata": {},
   "source": [
    "Another example, with strings as names:"
   ]
  },
  {
   "cell_type": "code",
   "execution_count": null,
   "metadata": {},
   "outputs": [],
   "source": [
    "model = Model()\n",
    "@variable(model, x[i = 1:4, j = [\"one\", \"two\"]] >= i)\n",
    "x"
   ]
  },
  {
   "cell_type": "markdown",
   "metadata": {},
   "source": [
    "What if I want to add two variables with the same name?\n",
    "\n",
    "It will give an error!"
   ]
  },
  {
   "cell_type": "code",
   "execution_count": null,
   "metadata": {},
   "outputs": [],
   "source": [
    "model = Model()\n",
    "@variable(model, x >= 1)\n",
    "@variable(model, x >= 2)"
   ]
  },
  {
   "cell_type": "markdown",
   "metadata": {},
   "source": [
    "Binary and integer variables\n",
    "\n",
    "By default, the decision variables in Julia are continuous variables. However, we can also create binary and integer variables as follows:"
   ]
  },
  {
   "cell_type": "code",
   "execution_count": null,
   "metadata": {},
   "outputs": [],
   "source": [
    "model = Model()\n",
    "@variable(model, x >= 1, Int)\n",
    "@variable(model, y, Bin)\n",
    "model"
   ]
  },
  {
   "cell_type": "markdown",
   "metadata": {},
   "source": [
    "#### 2.2 JuMP Constraints\n",
    "\n",
    "Now that we've seen how to create variables, let's look at **constraints**. \n",
    "\n",
    "Remember that constraints are limitations on the valid choices of decision variables (for example, the production of football and soccer trophies is limited by the available amount of wood). They may involve one or more decision variable, and be formulated as inequalities or equalities. \n",
    "\n",
    "Let's formulate the following constraints with decision variables $x\\geq 0$ and $y \\geq 0$:\n",
    "\n",
    "$2x+y \\leq 1$\n",
    "\n",
    "$2x+y \\geq 1$\n",
    "\n",
    "$2x+y = 1$\n",
    "\n",
    "Here is an example:"
   ]
  },
  {
   "cell_type": "code",
   "execution_count": null,
   "metadata": {},
   "outputs": [],
   "source": [
    "model = Model()\n",
    "@variable(model, x >= 0)\n",
    "@variable(model, y >= 0)\n",
    "\n",
    "@constraint(model, c_less_than, 2x + y <= 1)\n",
    "@constraint(model, c_greater_than, 2x + y >= 1)\n",
    "@constraint(model, c_equal_to, 2x + y == 1)\n",
    "\n",
    "print(model)"
   ]
  },
  {
   "cell_type": "markdown",
   "metadata": {},
   "source": [
    "Similar to the optimization variables, we can access the constraints using their names:"
   ]
  },
  {
   "cell_type": "code",
   "execution_count": null,
   "metadata": {},
   "outputs": [],
   "source": [
    "print(c_equal_to)"
   ]
  },
  {
   "cell_type": "markdown",
   "metadata": {},
   "source": [
    "#### 2.3 JuMP Objective Functions\n",
    "\n",
    "Now let's look at the last main part of the optimization model: The objective function.\n",
    "\n",
    "Note two important aspects:\n",
    "1. The objective is formulated as a function of the optimization problem.\n",
    "2. We need to specify whether we want to maximize or minimize this function."
   ]
  },
  {
   "cell_type": "markdown",
   "metadata": {},
   "source": [
    "Minimization problem (i.e., minimizing the objective function):"
   ]
  },
  {
   "cell_type": "code",
   "execution_count": null,
   "metadata": {},
   "outputs": [],
   "source": [
    "model = Model()\n",
    "@variable(model, x >= 0)\n",
    "\n",
    "@objective(model, Min, 2x + 1)\n",
    "\n",
    "model"
   ]
  },
  {
   "cell_type": "markdown",
   "metadata": {},
   "source": [
    "Maximization problem (i.e., maximizing the objective function):"
   ]
  },
  {
   "cell_type": "code",
   "execution_count": null,
   "metadata": {},
   "outputs": [],
   "source": [
    "model = Model()\n",
    "@variable(model, x <= 2)\n",
    "\n",
    "@objective(model, Max, 2x + 1)\n",
    "\n",
    "model"
   ]
  },
  {
   "cell_type": "markdown",
   "metadata": {},
   "source": [
    "#### 2.4 DO IT YOURSELF!\n",
    "\n",
    "Try to build the optimization model.\n",
    "\n",
    "*Top Brass Trophy Company makes large championship trophies for youth athletic leagues. At the moment, they are planning production for fall sports: football and soccer. Each football trophy has a wood base, an engraved plaque, a large brass football on top, and returns 12 dollars in profit. Soccer trophies are similar except that a brass soccer ball is on top, and the unit profit is only 9 dollars. Since the football has an asymmetric shape, its base requires 4 board feet of wood; the soccer base requires only 2 board feet. At the moment there are 1000 brass footballs in stock, 1500 soccer balls, 1750 plaques, and 4800 board feet of wood. What trophies should be produced from these supplies to maximize total profit assuming that all that are made can be sold?*\n",
    "\n",
    "(This is not a graded exercise for correctness, but just to see if you can start working with the syntax)\n",
    "There is a video available on the Canvas course website --  in the Julia/JuMP Resources page -- where you can see how to complete this.  "
   ]
  },
  {
   "cell_type": "code",
   "execution_count": null,
   "metadata": {},
   "outputs": [],
   "source": [
    "# Top Brass Optimization Model\n",
    "\n",
    "TBmodel = Model()\n",
    "\n",
    "\n",
    "\n"
   ]
  },
  {
   "cell_type": "markdown",
   "metadata": {},
   "source": [
    "#### 2.5 Solving a Model\n",
    "\n",
    "\n",
    "Once we've formulated a model, the next step is to solve it. This requires a **solver**. \n",
    "\n",
    "Solvers are implementations of algorithms in software that are designed to \n",
    "We will talk about solvers in the class on Tuesday, January 28. If you do this tutorial before that and feel confused, you can stop here. Otherwise, think of a solver as an amazing piece of software that will mtake your optimization model as an input and magically give you the solution back! (In fact, formost of the class, this is how we will think about solvers anyways.)\n",
    "\n",
    "JuMP supports lots of different solvers. The [JuMP documentation](https://jump.dev/JuMP.jl/stable/packages/solvers/) contains a list of the supported solvers and the types of problems each solver supports.\n",
    "\n",
    "For this tutorial, we're going to use two solvers in particular.\n",
    "\n",
    "The first solver is [HiGHS](https://highs.dev/). \n",
    "\n",
    "The second solver is the COIN-OR [Interior Point OPTimizer (Ipopt)](https://projects.coin-or.org/Ipopt). This solver supports nonlinear programs with continous variables.\n",
    "\n",
    "Ipopt is available via the [Ipopt.jl](https://github.com/JuliaOpt/Ipopt.jl) package.\n",
    "\n",
    "You may see other solvers in the class from time to time, such as Clp, GLPK, Gurobi.  We will talk more about differences between the solvers as the class progresses."
   ]
  },
  {
   "cell_type": "code",
   "execution_count": null,
   "metadata": {},
   "outputs": [],
   "source": [
    "using HiGHS\n",
    "using Ipopt"
   ]
  },
  {
   "cell_type": "markdown",
   "metadata": {},
   "source": [
    "There are two ways to add a solver to a JuMP model:"
   ]
  },
  {
   "cell_type": "code",
   "execution_count": null,
   "metadata": {},
   "outputs": [],
   "source": [
    "model = Model(HiGHS.Optimizer)\n",
    "\n",
    "# ... or ...\n",
    "\n",
    "model = Model()\n",
    "set_optimizer(model, HiGHS.Optimizer)"
   ]
  },
  {
   "cell_type": "markdown",
   "metadata": {},
   "source": [
    "Each solver can only handle certain types of problems. If you try to solve an unsupported problem type (such as using the HiGHS solver for a highly nonlinear problem), an error will be thrown:"
   ]
  },
  {
   "cell_type": "code",
   "execution_count": null,
   "metadata": {},
   "outputs": [],
   "source": [
    "model = Model(HiGHS.Optimizer)\n",
    "@variable(model, 0 <= x <= π)\n",
    "@NLobjective(model, Min, cos(x)^2) # NOTE: This is a non-linear objective function!\n",
    "optimize!(model)"
   ]
  },
  {
   "cell_type": "markdown",
   "metadata": {},
   "source": [
    "Let's try instead if the IpOpt solver, which is a solver for non-linear optimization problems."
   ]
  },
  {
   "cell_type": "code",
   "execution_count": null,
   "metadata": {},
   "outputs": [],
   "source": [
    "set_optimizer(model, Ipopt.Optimizer)\n",
    "optimize!(model)"
   ]
  },
  {
   "cell_type": "markdown",
   "metadata": {},
   "source": [
    "#### 2.6 Getting solutions\n",
    "\n",
    "- Use `objective_value(::Model)` to get the objective value\n",
    "- Use `value(::VariableRef)` to get the value of a variable"
   ]
  },
  {
   "cell_type": "code",
   "execution_count": null,
   "metadata": {},
   "outputs": [],
   "source": [
    "x_value = value(x)\n",
    "obj_value = objective_value(model)\n",
    "\n",
    "println(\"The optimal decision is \", x_value)\n",
    "println(\"The objective value is \", obj_value)"
   ]
  },
  {
   "cell_type": "markdown",
   "metadata": {},
   "source": [
    "#### More advanced - to remember for later in class!\n",
    "\n",
    "After solving a model, JuMP can report three different statuses:\n",
    "\n",
    "- `termination_status(model)` explains why the solver stopped. Common statuses are `OPTIMAL`, `INFEASIBLE`, `DUAL_INFEASIBLE` (i.e., primal is potentially unbounded), and `LOCALLY_SOLVED`.\n",
    "\n",
    "- `primal_status(model)` explains how to interpret the primal solution vector. Common statuses are `FEASIBLE_POINT` and `NO_SOLUTION`.\n",
    "\n",
    "- `dual_status(model)` explains how to interpret the dual solution vector. Common statuses are `FEASIBLE_POINT` and `NO_SOLUTION`.\n",
    "\n",
    "Information about both primal and dual variables are available:\n",
    "- Use `value(::VariableRef)` to get the value of a primal variable\n",
    "- Use `dual(::ConstraintRef)` to get the value of the dual variable associated with a constraint"
   ]
  },
  {
   "cell_type": "code",
   "execution_count": null,
   "metadata": {},
   "outputs": [],
   "source": [
    "model = Model(optimizer_with_attributes(Ipopt.Optimizer))\n",
    "@variable(model, 0 <= x <= π)\n",
    "@NLobjective(model, Min, cos(x)^2) # NOTE: This is a non-linear objetive function!\n",
    "optimize!(model)\n",
    "x_value = value(x)\n",
    "obj_value = objective_value(model)\n",
    "\n",
    "println()\n",
    "println(\"====== Let's look at the solution! =======\")\n",
    "println()\n",
    "println(\"Termination status: \", termination_status(model))\n",
    "println(\"Primal status:      \", primal_status(model))\n",
    "println(\"Dual status:        \", dual_status(model))\n",
    "println(\"      x | $(x_value)\")\n",
    "println(\"    π/2 | $(π/2)\")\n",
    "println(\"--------+----------------------\")\n",
    "println(\"cos²(x) | $(obj_value)\")"
   ]
  },
  {
   "cell_type": "markdown",
   "metadata": {},
   "source": [
    "\n",
    "Interpreting statuses\n",
    "\n",
    "After solving a model, JuMP can report three different statuses:\n",
    "\n",
    "- `termination_status(model)` explains why the solver stopped. Common statuses are `OPTIMAL`, `INFEASIBLE`, `DUAL_INFEASIBLE` (i.e., primal is potentially unbounded), and `LOCALLY_SOLVED`.\n",
    "\n",
    "- `primal_status(model)` explains how to interpret the primal solution vector. Common statuses are `FEASIBLE_POINT` and `NO_SOLUTION`.\n",
    "\n",
    "- `dual_status(model)` explains how to interpret the dual solution vector. Common statuses are `FEASIBLE_POINT` and `NO_SOLUTION`.\n",
    "\n",
    "Information about both primal and dual variables are available:\n",
    "- Use `value(::VariableRef)` to get the value of a primal variable\n",
    "- Use `dual(::ConstraintRef)` to get the value of the dual variable associated with a constraint"
   ]
  }
 ],
 "metadata": {
  "@webio": {
   "lastCommId": "a6284b6f335a4b388e6b47ba096fc46d",
   "lastKernelId": "86970654-0356-4c20-96a6-2b3c60cd512d"
  },
  "kernelspec": {
   "display_name": "Julia 1.10.0",
   "language": "julia",
   "name": "julia-1.10"
  },
  "language_info": {
   "file_extension": ".jl",
   "mimetype": "application/julia",
   "name": "julia",
   "version": "1.10.0"
  }
 },
 "nbformat": 4,
 "nbformat_minor": 2
}
