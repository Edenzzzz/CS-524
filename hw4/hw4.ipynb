{
 "cells": [
  {
   "cell_type": "markdown",
   "metadata": {},
   "source": [
    "# 1-2"
   ]
  },
  {
   "cell_type": "code",
   "execution_count": 1,
   "metadata": {},
   "outputs": [],
   "source": [
    "using JuMP, HiGHS\n",
    "\n",
    "# Roaster data: a, b, c for each roaster 1-6\n",
    "a = [20, 5, 4, 20, 10, 15]\n",
    "b = [2, 3, 5, 3, 1, 4]\n",
    "c = [10, 15, 20, 5, 25, 15]\n",
    "\n",
    "E = zeros(6, 6)  # 6 roasters × 6 weeks (columns 1-6 represent weeks 0-5)\n",
    "for i in 1:6\n",
    "    for t in 0:5\n",
    "        E[i, t+1] = b[i] * (a[i] + t)^2 - c[i] * (a[i] + t)\n",
    "    end\n",
    "end\n",
    "\n",
    "model = Model(HiGHS.Optimizer)\n",
    "\n",
    "@variable(model, x[1:6, 1:6] >= 0) \n",
    "@constraint(model, [i=1:6], sum(x[i, t] for t in 1:6) == 1)\n",
    "@constraint(model, [t=1:6], sum(x[i, t] for i in 1:6) == 1)\n",
    "@objective(model, Max, sum(E[i, t] * x[i, t] for i in 1:6, t in 1:6))\n",
    "\n",
    "set_silent(model)\n",
    "optimize!(model)"
   ]
  },
  {
   "cell_type": "code",
   "execution_count": 4,
   "metadata": {},
   "outputs": [
    {
     "name": "stdout",
     "output_type": "stream",
     "text": [
      "Total Enjoyment: 3665.0\n",
      "Roaster 1 → Week 3 (Enjoyment = 828.0)\n",
      "Roaster 2 → Week 1 (Enjoyment = 18.0)\n",
      "Roaster 3 → Week 2 (Enjoyment = 60.0)\n",
      "Roaster 4 → Week 5 (Enjoyment = 1750.0)\n",
      "Roaster 5 → Week 0 (Enjoyment = -150.0)\n",
      "Roaster 6 → Week 4 (Enjoyment = 1159.0)\n"
     ]
    }
   ],
   "source": [
    "println(\"Total Enjoyment: \", objective_value(model))\n",
    "for i in 1:6\n",
    "    for t in 1:6\n",
    "        if value(x[i, t]) == 1\n",
    "            println(\"Roaster $i → Week $(t-1) (Enjoyment = $(E[i, t]))\")\n",
    "        end\n",
    "    end\n",
    "end"
   ]
  },
  {
   "cell_type": "markdown",
   "metadata": {},
   "source": [
    "# 2-6"
   ]
  },
  {
   "cell_type": "code",
   "execution_count": 6,
   "metadata": {},
   "outputs": [
    {
     "name": "stdout",
     "output_type": "stream",
     "text": [
      "Optimal value of y1: 0.33333333333333337\n",
      "Optimal value of y2: 0.3333333333333333\n",
      "Objective value: 6.333333333333334\n"
     ]
    }
   ],
   "source": [
    "model = Model(HiGHS.Optimizer)\n",
    "@variable(model, y1 >= 0)\n",
    "@variable(model, y2 >=0)\n",
    "@constraint(model, 4y1 + 5y2 >= 3)\n",
    "@constraint(model, y1 + 2y2 >= 1)\n",
    "@objective(model, Min, 7y1 + 12y2)\n",
    "set_silent(model)\n",
    "optimize!(model)\n",
    "println(\"Optimal value of y1: \", value(y1))\n",
    "println(\"Optimal value of y2: \", value(y2))\n",
    "println(\"Objective value: \", objective_value(model))"
   ]
  },
  {
   "cell_type": "markdown",
   "metadata": {},
   "source": [
    "# 2-7"
   ]
  },
  {
   "cell_type": "code",
   "execution_count": 7,
   "metadata": {},
   "outputs": [
    {
     "name": "stdout",
     "output_type": "stream",
     "text": [
      "Optimal value of y1: 1.0\n",
      "Optimal value of y2: 0.0\n",
      "Objective value: 7.0\n"
     ]
    }
   ],
   "source": [
    "model = Model(HiGHS.Optimizer)\n",
    "@variable(model, y1 >= 0)\n",
    "@variable(model, y2 >=0)\n",
    "@constraint(model, 4y1 + 5y2 >= 3)\n",
    "@constraint(model, y1 + 2y2 >= 1)\n",
    "@objective(model, Min, 7y1 + 15y2)\n",
    "set_silent(model)\n",
    "optimize!(model)\n",
    "println(\"Optimal value of y1: \", value(y1))\n",
    "println(\"Optimal value of y2: \", value(y2))\n",
    "println(\"Objective value: \", objective_value(model))"
   ]
  },
  {
   "cell_type": "markdown",
   "metadata": {},
   "source": [
    "# 3-2"
   ]
  },
  {
   "cell_type": "code",
   "execution_count": 8,
   "metadata": {},
   "outputs": [
    {
     "name": "stdout",
     "output_type": "stream",
     "text": [
      "Optimal dual objective value: 16.5\n",
      "Optimal node potentials (u):\n",
      "u[S] = 5.0\n",
      "u[G] = 1.0\n",
      "u[O] = 0.0\n",
      "u[R] = 0.0\n",
      "u[I] = -5.5\n",
      "u[W] = -3.5\n",
      "u[A] = -11.5\n"
     ]
    }
   ],
   "source": [
    "using JuMP\n",
    "using GLPK\n",
    "\n",
    "# Define the set of nodes (restaurants)\n",
    "nodes = [\"S\", \"G\", \"O\", \"R\", \"I\", \"W\", \"A\"]  \n",
    "\n",
    "arcs = [\n",
    "    (\"S\", \"G\"),\n",
    "    (\"S\", \"O\"),\n",
    "    (\"S\", \"R\"),\n",
    "    (\"G\", \"O\"),\n",
    "    (\"G\", \"I\"),\n",
    "    (\"O\", \"R\"),\n",
    "    (\"O\", \"I\"),\n",
    "    (\"O\", \"W\"),\n",
    "    (\"R\", \"W\"),\n",
    "    (\"I\", \"W\"),\n",
    "    (\"I\", \"A\"),\n",
    "    (\"W\", \"A\")\n",
    "]\n",
    "\n",
    "# Define the cost for each arc (in minutes)\n",
    "cost = Dict(\n",
    "    (\"S\", \"G\") => 4.0,\n",
    "    (\"S\", \"O\") => 6.0,\n",
    "    (\"S\", \"R\") => 5.0,\n",
    "    (\"G\", \"O\") => 1.0,\n",
    "    (\"G\", \"I\") => 7.0,\n",
    "    (\"O\", \"R\") => 2.0,\n",
    "    (\"O\", \"I\") => 5.5,\n",
    "    (\"O\", \"W\") => 4.0,\n",
    "    (\"R\", \"W\") => 5.0,\n",
    "    (\"I\", \"W\") => 1.0,\n",
    "    (\"I\", \"A\") => 6.0,\n",
    "    (\"W\", \"A\") => 8.0\n",
    ")\n",
    "\n",
    "model_dual = Model(GLPK.Optimizer)\n",
    "@variable(model_dual, u[node in nodes])\n",
    "\n",
    "# For each arc (i, j) in A, add the constraint: u[i] - u[j] <= cost[i,j]\n",
    "for (i, j) in arcs\n",
    "    @constraint(model_dual, u[i] - u[j] <= cost[(i,j)])\n",
    "end\n",
    "\n",
    "@objective(model_dual, Max, u[\"S\"] - u[\"A\"])\n",
    "optimize!(model_dual)\n",
    "println(\"Optimal dual objective value: \", objective_value(model_dual))\n",
    "println(\"Optimal node potentials (u):\")\n",
    "for node in nodes\n",
    "    println(\"u[$node] = \", value(u[node]))\n",
    "end\n"
   ]
  },
  {
   "cell_type": "markdown",
   "metadata": {},
   "source": [
    "# 4-1"
   ]
  },
  {
   "cell_type": "code",
   "execution_count": 11,
   "metadata": {},
   "outputs": [
    {
     "name": "stdout",
     "output_type": "stream",
     "text": [
      "Optimal total number of wands delivered (max flow): 24.0\n",
      "\n",
      "Wands carried by each owl:\n",
      "O1 carries 6.0 wands.\n",
      "O2 carries 5.0 wands.\n",
      "O3 carries 4.0 wands.\n",
      "O4 carries 2.0 wands.\n",
      "O5 carries 7.0 wands.\n",
      "\n",
      "Number of each type of wand shipped:\n",
      "T1: 5.0\n",
      "T2: 5.0\n",
      "T3: 4.0\n",
      "T4: 4.0\n",
      "T5: 3.0\n",
      "T6: 2.0\n",
      "T7: 1.0\n"
     ]
    }
   ],
   "source": [
    "using JuMP\n",
    "using GLPK\n",
    "\n",
    "source = \"Store\"\n",
    "sink   = \"Customer\"\n",
    "# the 7 wand types\n",
    "types = [\"T1\", \"T2\", \"T3\", \"T4\", \"T5\", \"T6\", \"T7\"]\n",
    "owls = [\"O1\", \"O2\", \"O3\", \"O4\", \"O5\"]\n",
    "\n",
    "all_nodes = [source; types; owls; sink]\n",
    "arcs = Vector{Tuple{String,String}}()\n",
    "cap = Dict{Tuple{String,String},Float64}()\n",
    "\n",
    "for t in types\n",
    "    push!(arcs, (source, t))\n",
    "    cap[(source, t)] = length(types) # each owl carries at most 1 wand of each type\n",
    "end\n",
    "\n",
    "for t in types\n",
    "    for o in owls\n",
    "        push!(arcs, (t, o))\n",
    "        cap[(t, o)] = 1.0\n",
    "    end\n",
    "end\n",
    "\n",
    "owl_caps = Dict(\"O1\" => 6.0, \"O2\" => 5.0, \"O3\" => 4.0, \"O4\" => 2.0, \"O5\" => 10.0)\n",
    "for o in owls\n",
    "    push!(arcs, (o, sink))\n",
    "    cap[(o, sink)] = owl_caps[o]\n",
    "end\n",
    "\n",
    "model = Model(GLPK.Optimizer)\n",
    "@variable(model, x[arc in arcs] >= 0)\n",
    "@variable(model, f >= 0)\n",
    "\n",
    "# Flow conservation constraints:\n",
    "# For the source: outflow - inflow = f\n",
    "@constraint(model, sum(x[(source, j)] for (i, j) in arcs if i == source) \n",
    "                  - sum(x[(i, source)] for (i, j) in arcs if j == source) == f)\n",
    "\n",
    "# For the sink: inflow - outflow = f\n",
    "@constraint(model, sum(x[(i, sink)] for (i, j) in arcs if j == sink)\n",
    "                  - sum(x[(sink, j)] for (i, j) in arcs if i == sink) == f)\n",
    "\n",
    "# For all other nodes, net flow must be 0.\n",
    "for n in setdiff(all_nodes, [source, sink])\n",
    "    @constraint(model, sum(x[(i, j)] for (i, j) in arcs if i == n)\n",
    "                     - sum(x[(i, j)] for (i, j) in arcs if j == n) == 0)\n",
    "end\n",
    "\n",
    "for arc in arcs\n",
    "    @constraint(model, x[arc] <= cap[arc])\n",
    "end\n",
    "\n",
    "@objective(model, Max, f)\n",
    "optimize!(model)\n",
    "\n",
    "println(\"Optimal total number of wands delivered (max flow): \", objective_value(model))\n",
    "println(\"\\nWands carried by each owl:\")\n",
    "for o in owls\n",
    "    # Flow on arc (owl, sink) gives the number of wands carried by that owl.\n",
    "    println(\"$o carries \", value(x[(o, sink)]), \" wands.\")\n",
    "end\n",
    "\n",
    "println(\"\\nNumber of each type of wand shipped:\")\n",
    "for t in types\n",
    "    # Flow on arc (Store, t) gives the number of wands of that type shipped.\n",
    "    println(\"$t: \", value(x[(source, t)]))\n",
    "end\n"
   ]
  }
 ],
 "metadata": {
  "kernelspec": {
   "display_name": "Julia 1.11.3",
   "language": "julia",
   "name": "julia-1.11"
  },
  "language_info": {
   "file_extension": ".jl",
   "mimetype": "application/julia",
   "name": "julia",
   "version": "1.11.3"
  }
 },
 "nbformat": 4,
 "nbformat_minor": 2
}
