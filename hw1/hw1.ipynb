{
 "cells": [
  {
   "cell_type": "code",
   "execution_count": 1,
   "metadata": {},
   "outputs": [
    {
     "name": "stderr",
     "output_type": "stream",
     "text": [
      "\u001b[32m\u001b[1m    Updating\u001b[22m\u001b[39m registry at `~/.julia/registries/General.toml`\n",
      "\u001b[32m\u001b[1m   Resolving\u001b[22m\u001b[39m package versions...\n",
      "\u001b[32m\u001b[1m  No Changes\u001b[22m\u001b[39m to `~/.julia/environments/v1.11/Project.toml`\n",
      "\u001b[32m\u001b[1m  No Changes\u001b[22m\u001b[39m to `~/.julia/environments/v1.11/Manifest.toml`\n",
      "\u001b[92m\u001b[1mPrecompiling\u001b[22m\u001b[39m project...\n",
      "    890.8 ms\u001b[32m  ✓ \u001b[39m\u001b[90mSortingAlgorithms\u001b[39m\n",
      "   1034.7 ms\u001b[32m  ✓ \u001b[39m\u001b[90mFreeType2_jll\u001b[39m\n",
      "   1293.6 ms\u001b[32m  ✓ \u001b[39m\u001b[90mWidgets\u001b[39m\n",
      "   1349.2 ms\u001b[32m  ✓ \u001b[39m\u001b[90mColorVectorSpace → SpecialFunctionsExt\u001b[39m\n",
      "   1279.0 ms\u001b[32m  ✓ \u001b[39m\u001b[90mFontconfig_jll\u001b[39m\n",
      "   2527.6 ms\u001b[32m  ✓ \u001b[39m\u001b[90mLatexify\u001b[39m\n",
      "   2614.1 ms\u001b[32m  ✓ \u001b[39m\u001b[90mStatsBase\u001b[39m\n",
      "   1511.7 ms\u001b[32m  ✓ \u001b[39m\u001b[90mQt6Base_jll\u001b[39m\n",
      "   3848.5 ms\u001b[32m  ✓ \u001b[39m\u001b[90mRecipesPipeline\u001b[39m\n",
      "   1770.6 ms\u001b[32m  ✓ \u001b[39m\u001b[90mLatexify → SparseArraysExt\u001b[39m\n",
      "   2964.0 ms\u001b[32m  ✓ \u001b[39m\u001b[90mWebIO\u001b[39m\n",
      "   1979.9 ms\u001b[32m  ✓ \u001b[39m\u001b[90mCairo_jll\u001b[39m\n",
      "   2157.5 ms\u001b[32m  ✓ \u001b[39m\u001b[90mUnitfulLatexify\u001b[39m\n",
      "   1428.6 ms\u001b[32m  ✓ \u001b[39m\u001b[90mHarfBuzz_jll\u001b[39m\n",
      "   1906.5 ms\u001b[32m  ✓ \u001b[39m\u001b[90mQt6ShaderTools_jll\u001b[39m\n",
      "   1990.5 ms\u001b[32m  ✓ \u001b[39m\u001b[90mCSSUtil\u001b[39m\n",
      "   2109.2 ms\u001b[32m  ✓ \u001b[39m\u001b[90mJSExpr\u001b[39m\n",
      "   1221.6 ms\u001b[32m  ✓ \u001b[39m\u001b[90mlibass_jll\u001b[39m\n",
      "   1246.5 ms\u001b[32m  ✓ \u001b[39m\u001b[90mPango_jll\u001b[39m\n",
      "   2142.8 ms\u001b[32m  ✓ \u001b[39m\u001b[90mQt6Declarative_jll\u001b[39m\n",
      "   1363.7 ms\u001b[32m  ✓ \u001b[39m\u001b[90mFFMPEG_jll\u001b[39m\n",
      "   2653.9 ms\u001b[32m  ✓ \u001b[39m\u001b[90mKnockout\u001b[39m\n",
      "   1350.6 ms\u001b[32m  ✓ \u001b[39m\u001b[90mFFMPEG\u001b[39m\n",
      "   1491.0 ms\u001b[32m  ✓ \u001b[39m\u001b[90mGR_jll\u001b[39m\n",
      "   6190.5 ms\u001b[32m  ✓ \u001b[39m\u001b[90mInteractBase\u001b[39m\n",
      "   5834.1 ms\u001b[32m  ✓ \u001b[39m\u001b[90mGR\u001b[39m\n",
      "   2971.9 ms\u001b[32m  ✓ \u001b[39mInteract\n",
      "  43797.0 ms\u001b[32m  ✓ \u001b[39mPlots\n",
      "   7065.4 ms\u001b[32m  ✓ \u001b[39mPlots → IJuliaExt\n",
      "   7210.4 ms\u001b[32m  ✓ \u001b[39mPlots → UnitfulExt\n",
      "  30 dependencies successfully precompiled in 68 seconds. 203 already precompiled.\n",
      "\u001b[32m\u001b[1m   Resolving\u001b[22m\u001b[39m package versions...\n",
      "\u001b[32m\u001b[1m  No Changes\u001b[22m\u001b[39m to `~/.julia/environments/v1.11/Project.toml`\n",
      "\u001b[32m\u001b[1m  No Changes\u001b[22m\u001b[39m to `~/.julia/environments/v1.11/Manifest.toml`\n"
     ]
    }
   ],
   "source": [
    "using Pkg\n",
    "Pkg.add(\"Ipopt\")     \n",
    "Pkg.add(\"HiGHS\")"
   ]
  },
  {
   "cell_type": "code",
   "execution_count": 3,
   "metadata": {},
   "outputs": [],
   "source": [
    "using JuMP\n",
    "using HiGHS\n"
   ]
  },
  {
   "cell_type": "markdown",
   "metadata": {},
   "source": [
    "# Problem 4.1"
   ]
  },
  {
   "cell_type": "code",
   "execution_count": 6,
   "metadata": {},
   "outputs": [
    {
     "name": "stdout",
     "output_type": "stream",
     "text": [
      "Running HiGHS 1.9.0 (git hash: 66f735e60): Copyright (c) 2024 HiGHS under MIT licence terms\n",
      "Coefficient ranges:\n",
      "  Matrix [1e+00, 2e+00]\n",
      "  Cost   [2e+00, 3e+00]\n",
      "  Bound  [0e+00, 0e+00]\n",
      "  RHS    [4e+01, 1e+02]\n",
      "Presolving model\n",
      "2 rows, 2 cols, 4 nonzeros  0s\n",
      "2 rows, 2 cols, 4 nonzeros  0s\n",
      "Presolve : Reductions: rows 2(-1); columns 2(-0); elements 4(-1)\n",
      "Solving the presolved LP\n",
      "Using EKK dual simplex solver - serial\n",
      "  Iteration        Objective     Infeasibilities num(sum)\n",
      "          0     1.3500015164e+02 Pr: 2(45) 0s\n",
      "          1     2.0500000000e+02 Pr: 0(0) 0s\n",
      "Solving the original LP from the solution after postsolve\n",
      "Model status        : Optimal\n",
      "Simplex   iterations: 1\n",
      "Objective value     :  2.0500000000e+02\n",
      "Relative P-D gap    :  0.0000000000e+00\n",
      "HiGHS run time      :          0.01\n"
     ]
    }
   ],
   "source": [
    "simple_model = Model(HiGHS.Optimizer)\n",
    "@variable(simple_model, x1 >= 0)\n",
    "@variable(simple_model, x2 >= 0)\n",
    "\n",
    "@objective(simple_model, Min, 3x1 + 2x2)\n",
    "@constraint(simple_model, 2x1 + x2 >= 100)\n",
    "@constraint(simple_model, x1 + x2 >= 80)\n",
    "@constraint(simple_model, x1 >= 45)\n",
    "\n",
    "\n",
    "optimize!(simple_model)"
   ]
  },
  {
   "cell_type": "code",
   "execution_count": 8,
   "metadata": {},
   "outputs": [
    {
     "name": "stdout",
     "output_type": "stream",
     "text": [
      "optimal value of x1: 45.0\n",
      "optimal value of x2: 35.0\n",
      "optimal objective: 205.0\n"
     ]
    }
   ],
   "source": [
    "println(\"optimal value of x1: \", value(x1))\n",
    "println(\"optimal value of x2: \", value(x2))\n",
    "println(\"optimal objective: \", objective_value(simple_model))"
   ]
  },
  {
   "cell_type": "markdown",
   "metadata": {},
   "source": [
    "# Problem 5.2"
   ]
  },
  {
   "cell_type": "code",
   "execution_count": 14,
   "metadata": {},
   "outputs": [
    {
     "name": "stdout",
     "output_type": "stream",
     "text": [
      "Running HiGHS 1.9.0 (git hash: 66f735e60): Copyright (c) 2024 HiGHS under MIT licence terms\n",
      "Coefficient ranges:\n",
      "  Matrix [2e+00, 3e+00]\n",
      "  Cost   [2e+00, 2e+00]\n",
      "  Bound  [0e+00, 0e+00]\n",
      "  RHS    [6e+01, 9e+01]\n",
      "Presolving model\n",
      "3 rows, 3 cols, 9 nonzeros  0s\n",
      "3 rows, 3 cols, 9 nonzeros  0s\n",
      "Presolve : Reductions: rows 3(-0); columns 3(-0); elements 9(-0) - Not reduced\n",
      "Problem not reduced by presolve: solving the LP\n",
      "Using EKK dual simplex solver - serial\n",
      "  Iteration        Objective     Infeasibilities num(sum)\n",
      "          0    -6.9999926653e+00 Ph1: 3(19); Du: 3(6.99999) 0s\n",
      "          2     8.3333333333e+01 Pr: 0(0) 0s\n",
      "Model status        : Optimal\n",
      "Simplex   iterations: 2\n",
      "Objective value     :  8.3333333333e+01\n",
      "Relative P-D gap    :  1.7053025658e-16\n",
      "HiGHS run time      :          0.00\n",
      "Number galon of light beer: 10.0\n",
      "Number galon of light Pale Ale: 0.0\n",
      "Number galon of Malt Liquor: 23.333333333333332\n",
      "Profit: 83.33333333333333\n"
     ]
    }
   ],
   "source": [
    "model = Model(HiGHS.Optimizer)\n",
    "@variable(model, l >= 0)\n",
    "@variable(model, p >= 0)\n",
    "@variable(model, m >= 0)\n",
    "@objective(model, Max, 2.5l + 2p + 2.5m)\n",
    "\n",
    "@constraint(model, 2l + 2p + 3m <= 90)\n",
    "@constraint(model, 3l + 2p + 1.5m <= 65)\n",
    "@constraint(model, 2l + 1.5p + 2m <= 80)\n",
    "\n",
    "optimize!(model)\n",
    "println(\"Number galon of light beer: \", value(l))\n",
    "println(\"Number galon of light Pale Ale: \", value(p))\n",
    "println(\"Number galon of Malt Liquor: \", value(m))\n",
    "println(\"Profit: \", objective_value(model))"
   ]
  }
 ],
 "metadata": {
  "kernelspec": {
   "display_name": "Julia 1.11.3",
   "language": "julia",
   "name": "julia-1.11"
  },
  "language_info": {
   "file_extension": ".jl",
   "mimetype": "application/julia",
   "name": "julia",
   "version": "1.11.3"
  }
 },
 "nbformat": 4,
 "nbformat_minor": 2
}
