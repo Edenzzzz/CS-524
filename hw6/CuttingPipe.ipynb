{
 "cells": [
  {
   "cell_type": "markdown",
   "metadata": {},
   "source": [
    "# Pipe-cutting example\n",
    "\n",
    "A plumber stocks standard lengths of pipe, all of length 19 m. An order arrives for:\n",
    "\n",
    " - 12 lengths of 4m\n",
    " - 15 lengths of 5m\n",
    " - 22 lengths of 6m\n",
    "\n",
    "How should these lengths be cut from standard stock pipes so as to minimize\n",
    "the number of standard pipes used?"
   ]
  },
  {
   "cell_type": "markdown",
   "metadata": {},
   "source": [
    "### First model"
   ]
  },
  {
   "cell_type": "code",
   "execution_count": 1,
   "metadata": {},
   "outputs": [
    {
     "name": "stdout",
     "output_type": "stream",
     "text": [
      "  0.061593 seconds (5.74 k allocations: 328.773 KiB, 9.34% compilation time)\n",
      "number of pipes needed: 14.0\n"
     ]
    }
   ],
   "source": [
    "using JuMP, HiGHS\n",
    "\n",
    "scale = 1\n",
    "\n",
    "N = 16*scale  # upper bound on number of pipes needed\n",
    "\n",
    "m = Model(HiGHS.Optimizer)\n",
    "# set_optimizer_attribute(m, \"OutputFlag\", 0)\n",
    "set_silent(m)\n",
    "\n",
    "@variable(m, x[1:3,1:N] >= 0, Int)\n",
    "@variable(m, z[1:N], Bin)\n",
    "for j = 1:N\n",
    "    @constraint(m, 4x[1,j] + 5x[2,j] + 6x[3,j] <= 19)\n",
    "end\n",
    "@constraint(m, sum(x[1,j] for j=1:N) >= 12*scale)\n",
    "@constraint(m, sum(x[2,j] for j=1:N) >= 15*scale)\n",
    "@constraint(m, sum(x[3,j] for j=1:N) >= 22*scale)\n",
    "for j = 1:N\n",
    "    @constraint(m, x[1,j] <= 4z[j])\n",
    "    @constraint(m, x[2,j] <= 3z[j])\n",
    "    @constraint(m, x[3,j] <= 3z[j])\n",
    "end\n",
    "\n",
    "# # symmetry-breaking\n",
    "# for j = 1:N-1\n",
    "#     @constraint(m, z[j] >= z[j+1])\n",
    "# end\n",
    "\n",
    "@objective(m, Min, sum(z[j] for j=1:N))\n",
    "\n",
    "@time(optimize!(m))\n",
    "\n",
    "println(\"number of pipes needed: \",objective_value(m))"
   ]
  },
  {
   "cell_type": "markdown",
   "metadata": {},
   "source": [
    "### Second model (column enumeration)"
   ]
  },
  {
   "cell_type": "code",
   "execution_count": 2,
   "metadata": {},
   "outputs": [
    {
     "name": "stdout",
     "output_type": "stream",
     "text": [
      "Running HiGHS 1.9.0 (git hash: 66f735e60): Copyright (c) 2024 HiGHS under MIT licence terms\n",
      "Coefficient ranges:\n",
      "  Matrix [1e+00, 4e+00]\n",
      "  Cost   [1e+00, 1e+00]\n",
      "  Bound  [0e+00, 0e+00]\n",
      "  RHS    [1e+01, 2e+01]\n",
      "Presolving model\n",
      "3 rows, 9 cols, 17 nonzeros  0s\n",
      "3 rows, 9 cols, 17 nonzeros  0s\n",
      "Objective function is integral with scale 1\n",
      "\n",
      "Solving MIP model with:\n",
      "   3 rows\n",
      "   9 cols (0 binary, 9 integer, 0 implied int., 0 continuous)\n",
      "   17 nonzeros\n",
      "\n",
      "Src: B => Branching; C => Central rounding; F => Feasibility pump; H => Heuristic; L => Sub-MIP;\n",
      "     P => Empty MIP; R => Randomized rounding; S => Solve LP; T => Evaluate node; U => Unbounded;\n",
      "     z => Trivial zero; l => Trivial lower; u => Trivial upper; p => Trivial point\n",
      "\n",
      "        Nodes      |    B&B Tree     |            Objective Bounds              |  Dynamic Constraints |       Work      \n",
      "Src  Proc. InQueue |  Leaves   Expl. | BestBound       BestSol              Gap |   Cuts   InLp Confl. | LpIters     Time\n",
      "\n",
      "         0       0         0   0.00%   0               inf                  inf        0      0      0         0     0.0s\n",
      " S       0       0         0   0.00%   0               15               100.00%        0      0      0         0     0.0s\n",
      "         0       0         0   0.00%   13.73333333     15                 8.44%        0      0      3         3     0.0s\n",
      " H       0       0         0   0.00%   14              14                 0.00%        5      2      6         5     0.0s\n",
      "         1       0         1 100.00%   14              14                 0.00%        5      2      7         5     0.0s\n",
      "\n",
      "Solving report\n",
      "  Status            Optimal\n",
      "  Primal bound      14\n",
      "  Dual bound        14\n",
      "  Gap               0% (tolerance: 0.01%)\n",
      "  P-D integral      0.000121440330598\n",
      "  Solution status   feasible\n",
      "                    14 (objective)\n",
      "                    0 (bound viol.)\n",
      "                    0 (int. viol.)\n",
      "                    0 (row viol.)\n",
      "  Timing            0.00 (total)\n",
      "                    0.00 (presolve)\n",
      "                    0.00 (solve)\n",
      "                    0.00 (postsolve)\n",
      "  Max sub-MIP depth 0\n",
      "  Nodes             1\n",
      "  Repair LPs        0 (0 feasible; 0 iterations)\n",
      "  LP iterations     5 (total)\n",
      "                    0 (strong br.)\n",
      "                    2 (separation)\n",
      "                    0 (heuristics)\n",
      "  0.004170 seconds (322 allocations: 19.969 KiB)\n",
      "number of pipes needed: 14.0\n",
      "number of each pattern:\n",
      "[3.0, 4.0, 0.0, 0.0, 5.0, 2.0, 0.0, 0.0, 0.0]\n"
     ]
    }
   ],
   "source": [
    "using JuMP, HiGHS\n",
    "\n",
    "# all the columns:\n",
    "A = [ 0 0 1 0 2 1 2 3 4\n",
    "      0 1 0 2 1 3 2 1 0\n",
    "      3 2 2 1 1 0 0 0 0 ]\n",
    "scale = 1\n",
    "\n",
    "m = Model(HiGHS.Optimizer)\n",
    "#set_silent(m)\n",
    "\n",
    "@variable(m, x[1:9] >= 0, Int)\n",
    "@constraint(m, A*x .>= [12;15;22]*scale)\n",
    "@objective(m, Min, sum(x))\n",
    "@time(optimize!(m))\n",
    "\n",
    "println(\"number of pipes needed: \",objective_value(m))\n",
    "println(\"number of each pattern:\")\n",
    "println(value.(x))\n"
   ]
  },
  {
   "cell_type": "code",
   "execution_count": 3,
   "metadata": {},
   "outputs": [],
   "source": []
  }
 ],
 "metadata": {
  "kernelspec": {
   "display_name": "Julia 1.11.3",
   "language": "julia",
   "name": "julia-1.11"
  },
  "language_info": {
   "file_extension": ".jl",
   "mimetype": "application/julia",
   "name": "julia",
   "version": "1.11.3"
  }
 },
 "nbformat": 4,
 "nbformat_minor": 1
}
