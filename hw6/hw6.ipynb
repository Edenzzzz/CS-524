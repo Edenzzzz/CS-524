{
 "cells": [
  {
   "cell_type": "markdown",
   "metadata": {},
   "source": [
    "# 1-2\n"
   ]
  },
  {
   "cell_type": "code",
   "execution_count": 4,
   "metadata": {},
   "outputs": [
    {
     "name": "stdout",
     "output_type": "stream",
     "text": [
      "status = MathOptInterface.OPTIMAL\n",
      "Min time to complete: 46.0 min\n",
      "\n",
      "Job → Station assignments:\n",
      "  Job 1 → Station 3\n",
      "  Job 2 → Station 3\n",
      "  Job 3 → Station 3\n",
      "  Job 4 → Station 4\n",
      "  Job 5 → Station 4\n",
      "  Job 6 → Station 1\n",
      "  Job 7 → Station 4\n",
      "  Job 8 → Station 1\n",
      "\n",
      "Station workloads (including setup):\n",
      "  Station 1: 30.0 min (used=true)\n",
      "  Station 2: 0.0 min (used=false)\n",
      "  Station 3: 46.0 min (used=true)\n",
      "  Station 4: 45.0 min (used=true)\n"
     ]
    }
   ],
   "source": [
    "using JuMP, HiGHS\n",
    "\n",
    "\n",
    "I = 1:4    # stations\n",
    "J = 1:8    # jobs: 1=(T1,S1),2=(T1,S2),3=(T1,S3),4=(T2,S1),5=(T2,S2),6=(T3,S1),7=(T3,S2),8=(T3,S3)\n",
    "\n",
    "p = [\n",
    "    # j =  1   2   3   4   5   6   7   8\n",
    "    # T1   T1  T1  T2  T2  T3  T3  T3\n",
    "    17  20  17  13  19  11  13   9;   # i=1\n",
    "    18  18  21  18  21  13   9  13;   # i=2\n",
    "    12  17   9  21  17   9   9  17;   # i=3\n",
    "    16  14  21  12  15  14  12  17;   # i=4\n",
    "]\n",
    "\n",
    "# availability a[i] and setup s[i]\n",
    "a = [41, 45, 50, 46]\n",
    "s = [10, 12,  8,  6]\n",
    "\n",
    "model = Model(HiGHS.Optimizer)\n",
    "\n",
    "@variable(model, z[j in J, i in I], Bin)   # z[j,i] = 1 if job j on station i\n",
    "@variable(model, x[i in I], Bin)           # x[i]=1 if station i is used\n",
    "@variable(model, C >= 0)                   # makespan\n",
    "\n",
    "@constraint(model, [j in J], sum(z[j,i] for i in I) == 1)\n",
    "\n",
    "@constraint(model, [i in I], z[1,i] == z[2,i])\n",
    "@constraint(model, [i in I], z[2,i] == z[3,i])\n",
    "\n",
    "@constraint(model, [i in I],\n",
    "    s[i]*x[i] + sum(p[i,j]*z[j,i] for j in J) <= a[i]\n",
    ")\n",
    "\n",
    "# Link usage\n",
    "@constraint(model, [j in J, i in I], z[j,i] <= x[i])\n",
    "\n",
    "# Makespan definition\n",
    "@constraint(model, [i in I],\n",
    "    s[i]*x[i] + sum(p[i,j]*z[j,i] for j in J) <= C\n",
    ")\n",
    "\n",
    "@objective(model, Min, C)\n",
    "\n",
    "set_silent(model)\n",
    "optimize!(model)\n",
    "\n",
    "status = termination_status(model)\n",
    "@show status\n",
    "println(\"Min time to complete: $(round(value(C); digits=2)) min\")\n",
    "\n",
    "println(\"\\nJob → Station assignments:\")\n",
    "for j in J, i in I\n",
    "    if value(z[j,i]) > 0\n",
    "        println(\"  Job $j → Station $i\")\n",
    "    end\n",
    "end\n",
    "\n",
    "println(\"\\nStation workloads (including setup):\")\n",
    "for i in I\n",
    "    load = s[i]*value(x[i]) + sum(p[i,j]*value(z[j,i]) for j in J)\n",
    "    println(\"  Station $i: $(round(load; digits=2)) min \", \n",
    "            \"(used=$(value(x[i])>0.5))\")\n",
    "end\n"
   ]
  },
  {
   "cell_type": "markdown",
   "metadata": {},
   "source": [
    "# 3-2\n"
   ]
  },
  {
   "cell_type": "code",
   "execution_count": 7,
   "metadata": {},
   "outputs": [
    {
     "name": "stdout",
     "output_type": "stream",
     "text": [
      "Auror locations: [1, 4, 7]\n",
      "Covered districts: [1, 2, 3, 4, 5, 6, 7, 8]\n",
      "Total covered population (thousands): 295.0\n"
     ]
    }
   ],
   "source": [
    "using JuMP, GLPK\n",
    "\n",
    "I = 1:8 # districts\n",
    "p = [40, 30, 35, 20, 15, 50, 45, 60]                # populations (thousands)\n",
    "d = [\n",
    "    0  3  4  6  1  9  8 10;\n",
    "    3  0  5  4  8  6  1  9;\n",
    "    4  5  0  2  2  3  5  7;\n",
    "    6  4  2  0  3  2  5  4;\n",
    "    1  8  2  3  0  2  2  4;\n",
    "    9  6  3  2  2  0  3  2;\n",
    "    8  1  5  5  2  3  0  2;\n",
    "   10  9  7  4  4  2  2  0\n",
    "]\n",
    "n = [d[i,j] ≤ 2 ? 1 : 0 for i in I, j in I]         # reachable within 2 s\n",
    "\n",
    "# Model\n",
    "model = Model(GLPK.Optimizer)\n",
    "@variable(model, a[i in I], Bin)                   # auror at i?\n",
    "@variable(model, c[i in I], Bin)                   # i covered?\n",
    "\n",
    "@constraint(model, sum(a[j] for j in I) == 3)      # exactly 3 aurors\n",
    "@constraint(model, [i in I],\n",
    "    c[i] <= sum(n[i,j] * a[j] for j in I)           # coverage if ≤2 s away\n",
    ")\n",
    "\n",
    "@objective(model, Max, sum(p[i] * c[i] for i in I)) # maximize covered population\n",
    "\n",
    "optimize!(model)\n",
    "\n",
    "# Results\n",
    "println(\"Auror locations: \", [j for j in I if value(a[j]) > 0])\n",
    "println(\"Covered districts: \", [i for i in I if value(c[i]) > 0])\n",
    "println(\"Total covered population (thousands): \", objective_value(model))\n"
   ]
  }
 ],
 "metadata": {
  "kernelspec": {
   "display_name": "Julia 1.11.3",
   "language": "julia",
   "name": "julia-1.11"
  },
  "language_info": {
   "file_extension": ".jl",
   "mimetype": "application/julia",
   "name": "julia",
   "version": "1.11.3"
  }
 },
 "nbformat": 4,
 "nbformat_minor": 2
}
