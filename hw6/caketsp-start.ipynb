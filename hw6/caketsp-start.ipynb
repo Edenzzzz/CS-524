{
 "cells": [
  {
   "cell_type": "code",
   "execution_count": null,
   "metadata": {},
   "outputs": [],
   "source": [
    "# matrix representing time to clean station between each pair of jobs (job i, job j)\n",
    "clean_duration_matrix = [0 5 9 20 14 14 10 8\n",
    "                        19 0 10 20 9 6 13 6\n",
    "                        12 13 0 18 19 20 20 11\n",
    "                        20 21 22 0 25 19 20 25\n",
    "                        7 11 18 9 0 9 9 15\n",
    "                        12 10 16 5 16 0 9 7\n",
    "                        14 16 11 5 14 15 0 11\n",
    "                        10 11 7 14 8 19 16 0]\n",
    "\n",
    "\n",
    "job_pairs= [(:1,:1),(:1,:2),(:1,:3),\n",
    "    (:2,:1), (:2,:2),\n",
    "    (:3,:1),(:3,:2),(:3,:3)\n",
    "    ] # set of jobs\n",
    "\n",
    "using NamedArrays\n",
    "# times it takes to clean station between each pair of jobs\n",
    "duration_NA = NamedArray(clean_duration_matrix, \n",
    "    (job_pairs,job_pairs),(\"job pair\",\"job pair\"))\n",
    "\n",
    "# durations of each job\n",
    "make_times = Dict(zip(job_pairs,[10 13 7 12 11 8 8 9]));\n"
   ]
  }
 ],
 "metadata": {
  "kernelspec": {
   "display_name": "Julia 1.8.3",
   "language": "julia",
   "name": "julia-1.8"
  },
  "language_info": {
   "file_extension": ".jl",
   "mimetype": "application/julia",
   "name": "julia",
   "version": "1.8.3"
  }
 },
 "nbformat": 4,
 "nbformat_minor": 2
}
