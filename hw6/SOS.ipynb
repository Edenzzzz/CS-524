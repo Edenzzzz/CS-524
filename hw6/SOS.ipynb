{
 "cells": [
  {
   "cell_type": "markdown",
   "metadata": {},
   "source": [
    "# SOS1 example\n",
    "\n",
    "Solve the following optimization problem:\n",
    "$$\\begin{aligned}\n",
    "\\text{maximize}\\quad & 3x_1 + 4x_2 + x_3 + 5x_4 \\\\\n",
    "\\text{subject to}\\quad & 0 \\le x_i \\le 5 \\\\\n",
    "& \\text{at most one of the $x_i$ can be nonzero}\n",
    "\\end{aligned}$$"
   ]
  },
  {
   "cell_type": "code",
   "execution_count": null,
   "metadata": {},
   "outputs": [],
   "source": [
    "# using binary constraint\n",
    "\n",
    "using JuMP, Gurobi\n",
    "\n",
    "m = Model(Gurobi.Optimizer)\n",
    "set_silent(m)\n",
    "\n",
    "@variable(m, 0 <= x[1:4] <= 5)\n",
    "@variable(m, z[1:4], Bin)\n",
    "@constraint(m, sum(z[i] for i=1:4) == 1)\n",
    "@constraint(m, x .<= 5z)\n",
    "@objective(m, Max, 3x[1]+4x[2]+1x[3]+5x[4])\n",
    "\n",
    "optimize!(m)\n",
    "value.(x)"
   ]
  },
  {
   "cell_type": "code",
   "execution_count": null,
   "metadata": {},
   "outputs": [],
   "source": [
    "using Pkg\n",
    "Pkg.add(\"MathOptInterface\")\n",
    "Pkg.build(\"MathOptInterface\")\n"
   ]
  },
  {
   "cell_type": "code",
   "execution_count": null,
   "metadata": {},
   "outputs": [],
   "source": [
    "# using SOS1 constraint\n",
    "\n",
    "using JuMP, Gurobi, MathOptInterface\n",
    "\n",
    "m = Model(Gurobi.Optimizer)\n",
    "set_silent(m)\n",
    "\n",
    "@variable(m, 0 <= x[1:4] <= 5)\n",
    "# addSOS1(m, x)\n",
    "@constraint(m, x in MathOptInterface.SOS1([1.0, 2.0, 3.0, 4.0]))\n",
    "@objective(m, Max, 3x[1]+4x[2]+1x[3]+5x[4])\n",
    "\n",
    "optimize!(m)\n",
    "value.(x)"
   ]
  },
  {
   "cell_type": "markdown",
   "metadata": {},
   "source": [
    "## SOS2 example\n",
    "\n",
    "Solve the following optimization problem:\n",
    "$$\\begin{aligned}\n",
    "\\text{maximize}\\quad & 3x_1 + 4x_2 + x_3 + 5x_4 \\\\\n",
    "\\text{subject to}\\quad & 0 \\le x_i \\le 5 \\\\\n",
    "& \\text{at most two of the $x_i$ can be nonzero} \\\\\n",
    "& \\text{and the nonzero $x_i$ must be consecutive}\n",
    "\\end{aligned}$$"
   ]
  },
  {
   "cell_type": "code",
   "execution_count": null,
   "metadata": {},
   "outputs": [],
   "source": [
    "# using binary constraint\n",
    "\n",
    "using JuMP, Gurobi\n",
    "\n",
    "m = Model(Gurobi.Optimizer)\n",
    "set_silent(m)\n",
    "\n",
    "@variable(m, 0 <= x[1:4] <= 5)\n",
    "@variable(m, z[1:3] >= 0)\n",
    "@constraint(m, sum(z[i] for i=1:3) == 1)\n",
    "@constraint(m, x[1] <= 5z[1])\n",
    "@constraint(m, x[2] <= 5z[1] + 5z[2])\n",
    "@constraint(m, x[3] <= 5z[2] + 5z[3])\n",
    "@constraint(m, x[4] <= 5z[3])\n",
    "@objective(m, Max, 3x[1]+4x[2]+1x[3]+5x[4])\n",
    "\n",
    "optimize!(m)\n",
    "value.(x)"
   ]
  },
  {
   "cell_type": "code",
   "execution_count": null,
   "metadata": {},
   "outputs": [],
   "source": [
    "# using SOS2 constraint\n",
    "\n",
    "using JuMP, Gurobi, MathOptInterface\n",
    "\n",
    "m = Model(Gurobi.Optimizer)\n",
    "set_silent(m)\n",
    "\n",
    "@variable(m, 0 <= x[1:4] <= 5)\n",
    "# addSOS2(m, x)\n",
    "@constraint(m, x in MathOptInterface.SOS2([1.0, 2.0, 3.0, 4.0]))\n",
    "@objective(m, Max, 3x[1]+4x[2]+1x[3]+5x[4])\n",
    "\n",
    "optimize!(m)\n",
    "value.(x)"
   ]
  },
  {
   "cell_type": "code",
   "execution_count": null,
   "metadata": {},
   "outputs": [],
   "source": []
  }
 ],
 "metadata": {
  "kernelspec": {
   "display_name": "Julia 1.10.0",
   "language": "julia",
   "name": "julia-1.10"
  },
  "language_info": {
   "file_extension": ".jl",
   "mimetype": "application/julia",
   "name": "julia",
   "version": "1.10.0"
  }
 },
 "nbformat": 4,
 "nbformat_minor": 1
}
